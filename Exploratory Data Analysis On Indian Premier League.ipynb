{
 "cells": [
  {
   "cell_type": "markdown",
   "id": "01a19f6d",
   "metadata": {},
   "source": [
    "# #Internship Project For the Sparks Foundation - By : Ashwini Wanve"
   ]
  },
  {
   "cell_type": "markdown",
   "id": "b5df6a83",
   "metadata": {},
   "source": [
    "\n",
    "# Exploratory Data analysis : Sports "
   ]
  },
  {
   "cell_type": "markdown",
   "id": "f5f4e5ba",
   "metadata": {},
   "source": [
    "### Step 1: Import the data "
   ]
  },
  {
   "cell_type": "code",
   "execution_count": 12,
   "id": "0423df06",
   "metadata": {},
   "outputs": [
    {
     "name": "stdout",
     "output_type": "stream",
     "text": [
      "^C\n",
      "Note: you may need to restart the kernel to use updated packages.\n"
     ]
    }
   ],
   "source": [
    "pip install pandas==0.22"
   ]
  },
  {
   "cell_type": "code",
   "execution_count": 1,
   "id": "1850175b",
   "metadata": {},
   "outputs": [
    {
     "data": {
      "text/html": [
       "<div>\n",
       "<style scoped>\n",
       "    .dataframe tbody tr th:only-of-type {\n",
       "        vertical-align: middle;\n",
       "    }\n",
       "\n",
       "    .dataframe tbody tr th {\n",
       "        vertical-align: top;\n",
       "    }\n",
       "\n",
       "    .dataframe thead th {\n",
       "        text-align: right;\n",
       "    }\n",
       "</style>\n",
       "<table border=\"1\" class=\"dataframe\">\n",
       "  <thead>\n",
       "    <tr style=\"text-align: right;\">\n",
       "      <th></th>\n",
       "      <th>id</th>\n",
       "      <th>season</th>\n",
       "      <th>city</th>\n",
       "      <th>date</th>\n",
       "      <th>team1</th>\n",
       "      <th>team2</th>\n",
       "      <th>toss_winner</th>\n",
       "      <th>toss_decision</th>\n",
       "      <th>result</th>\n",
       "      <th>dl_applied</th>\n",
       "      <th>winner</th>\n",
       "      <th>win_by_runs</th>\n",
       "      <th>win_by_wickets</th>\n",
       "      <th>player_of_match</th>\n",
       "      <th>venue</th>\n",
       "      <th>umpire1</th>\n",
       "      <th>umpire2</th>\n",
       "      <th>umpire3</th>\n",
       "    </tr>\n",
       "  </thead>\n",
       "  <tbody>\n",
       "    <tr>\n",
       "      <th>0</th>\n",
       "      <td>1</td>\n",
       "      <td>2017</td>\n",
       "      <td>Hyderabad</td>\n",
       "      <td>2017-04-05</td>\n",
       "      <td>Sunrisers Hyderabad</td>\n",
       "      <td>Royal Challengers Bangalore</td>\n",
       "      <td>Royal Challengers Bangalore</td>\n",
       "      <td>field</td>\n",
       "      <td>normal</td>\n",
       "      <td>0</td>\n",
       "      <td>Sunrisers Hyderabad</td>\n",
       "      <td>35</td>\n",
       "      <td>0</td>\n",
       "      <td>Yuvraj Singh</td>\n",
       "      <td>Rajiv Gandhi International Stadium, Uppal</td>\n",
       "      <td>AY Dandekar</td>\n",
       "      <td>NJ Llong</td>\n",
       "      <td>NaN</td>\n",
       "    </tr>\n",
       "    <tr>\n",
       "      <th>1</th>\n",
       "      <td>2</td>\n",
       "      <td>2017</td>\n",
       "      <td>Pune</td>\n",
       "      <td>2017-04-06</td>\n",
       "      <td>Mumbai Indians</td>\n",
       "      <td>Rising Pune Supergiant</td>\n",
       "      <td>Rising Pune Supergiant</td>\n",
       "      <td>field</td>\n",
       "      <td>normal</td>\n",
       "      <td>0</td>\n",
       "      <td>Rising Pune Supergiant</td>\n",
       "      <td>0</td>\n",
       "      <td>7</td>\n",
       "      <td>SPD Smith</td>\n",
       "      <td>Maharashtra Cricket Association Stadium</td>\n",
       "      <td>A Nand Kishore</td>\n",
       "      <td>S Ravi</td>\n",
       "      <td>NaN</td>\n",
       "    </tr>\n",
       "    <tr>\n",
       "      <th>2</th>\n",
       "      <td>3</td>\n",
       "      <td>2017</td>\n",
       "      <td>Rajkot</td>\n",
       "      <td>2017-04-07</td>\n",
       "      <td>Gujarat Lions</td>\n",
       "      <td>Kolkata Knight Riders</td>\n",
       "      <td>Kolkata Knight Riders</td>\n",
       "      <td>field</td>\n",
       "      <td>normal</td>\n",
       "      <td>0</td>\n",
       "      <td>Kolkata Knight Riders</td>\n",
       "      <td>0</td>\n",
       "      <td>10</td>\n",
       "      <td>CA Lynn</td>\n",
       "      <td>Saurashtra Cricket Association Stadium</td>\n",
       "      <td>Nitin Menon</td>\n",
       "      <td>CK Nandan</td>\n",
       "      <td>NaN</td>\n",
       "    </tr>\n",
       "    <tr>\n",
       "      <th>3</th>\n",
       "      <td>4</td>\n",
       "      <td>2017</td>\n",
       "      <td>Indore</td>\n",
       "      <td>2017-04-08</td>\n",
       "      <td>Rising Pune Supergiant</td>\n",
       "      <td>Kings XI Punjab</td>\n",
       "      <td>Kings XI Punjab</td>\n",
       "      <td>field</td>\n",
       "      <td>normal</td>\n",
       "      <td>0</td>\n",
       "      <td>Kings XI Punjab</td>\n",
       "      <td>0</td>\n",
       "      <td>6</td>\n",
       "      <td>GJ Maxwell</td>\n",
       "      <td>Holkar Cricket Stadium</td>\n",
       "      <td>AK Chaudhary</td>\n",
       "      <td>C Shamshuddin</td>\n",
       "      <td>NaN</td>\n",
       "    </tr>\n",
       "    <tr>\n",
       "      <th>4</th>\n",
       "      <td>5</td>\n",
       "      <td>2017</td>\n",
       "      <td>Bangalore</td>\n",
       "      <td>2017-04-08</td>\n",
       "      <td>Royal Challengers Bangalore</td>\n",
       "      <td>Delhi Daredevils</td>\n",
       "      <td>Royal Challengers Bangalore</td>\n",
       "      <td>bat</td>\n",
       "      <td>normal</td>\n",
       "      <td>0</td>\n",
       "      <td>Royal Challengers Bangalore</td>\n",
       "      <td>15</td>\n",
       "      <td>0</td>\n",
       "      <td>KM Jadhav</td>\n",
       "      <td>M Chinnaswamy Stadium</td>\n",
       "      <td>NaN</td>\n",
       "      <td>NaN</td>\n",
       "      <td>NaN</td>\n",
       "    </tr>\n",
       "    <tr>\n",
       "      <th>...</th>\n",
       "      <td>...</td>\n",
       "      <td>...</td>\n",
       "      <td>...</td>\n",
       "      <td>...</td>\n",
       "      <td>...</td>\n",
       "      <td>...</td>\n",
       "      <td>...</td>\n",
       "      <td>...</td>\n",
       "      <td>...</td>\n",
       "      <td>...</td>\n",
       "      <td>...</td>\n",
       "      <td>...</td>\n",
       "      <td>...</td>\n",
       "      <td>...</td>\n",
       "      <td>...</td>\n",
       "      <td>...</td>\n",
       "      <td>...</td>\n",
       "      <td>...</td>\n",
       "    </tr>\n",
       "    <tr>\n",
       "      <th>751</th>\n",
       "      <td>11347</td>\n",
       "      <td>2019</td>\n",
       "      <td>Mumbai</td>\n",
       "      <td>05/05/19</td>\n",
       "      <td>Kolkata Knight Riders</td>\n",
       "      <td>Mumbai Indians</td>\n",
       "      <td>Mumbai Indians</td>\n",
       "      <td>field</td>\n",
       "      <td>normal</td>\n",
       "      <td>0</td>\n",
       "      <td>Mumbai Indians</td>\n",
       "      <td>0</td>\n",
       "      <td>9</td>\n",
       "      <td>HH Pandya</td>\n",
       "      <td>Wankhede Stadium</td>\n",
       "      <td>Nanda Kishore</td>\n",
       "      <td>O Nandan</td>\n",
       "      <td>S Ravi</td>\n",
       "    </tr>\n",
       "    <tr>\n",
       "      <th>752</th>\n",
       "      <td>11412</td>\n",
       "      <td>2019</td>\n",
       "      <td>Chennai</td>\n",
       "      <td>07/05/19</td>\n",
       "      <td>Chennai Super Kings</td>\n",
       "      <td>Mumbai Indians</td>\n",
       "      <td>Chennai Super Kings</td>\n",
       "      <td>bat</td>\n",
       "      <td>normal</td>\n",
       "      <td>0</td>\n",
       "      <td>Mumbai Indians</td>\n",
       "      <td>0</td>\n",
       "      <td>6</td>\n",
       "      <td>AS Yadav</td>\n",
       "      <td>M. A. Chidambaram Stadium</td>\n",
       "      <td>Nigel Llong</td>\n",
       "      <td>Nitin Menon</td>\n",
       "      <td>Ian Gould</td>\n",
       "    </tr>\n",
       "    <tr>\n",
       "      <th>753</th>\n",
       "      <td>11413</td>\n",
       "      <td>2019</td>\n",
       "      <td>Visakhapatnam</td>\n",
       "      <td>08/05/19</td>\n",
       "      <td>Sunrisers Hyderabad</td>\n",
       "      <td>Delhi Capitals</td>\n",
       "      <td>Delhi Capitals</td>\n",
       "      <td>field</td>\n",
       "      <td>normal</td>\n",
       "      <td>0</td>\n",
       "      <td>Delhi Capitals</td>\n",
       "      <td>0</td>\n",
       "      <td>2</td>\n",
       "      <td>RR Pant</td>\n",
       "      <td>ACA-VDCA Stadium</td>\n",
       "      <td>NaN</td>\n",
       "      <td>NaN</td>\n",
       "      <td>NaN</td>\n",
       "    </tr>\n",
       "    <tr>\n",
       "      <th>754</th>\n",
       "      <td>11414</td>\n",
       "      <td>2019</td>\n",
       "      <td>Visakhapatnam</td>\n",
       "      <td>10/05/19</td>\n",
       "      <td>Delhi Capitals</td>\n",
       "      <td>Chennai Super Kings</td>\n",
       "      <td>Chennai Super Kings</td>\n",
       "      <td>field</td>\n",
       "      <td>normal</td>\n",
       "      <td>0</td>\n",
       "      <td>Chennai Super Kings</td>\n",
       "      <td>0</td>\n",
       "      <td>6</td>\n",
       "      <td>F du Plessis</td>\n",
       "      <td>ACA-VDCA Stadium</td>\n",
       "      <td>Sundaram Ravi</td>\n",
       "      <td>Bruce Oxenford</td>\n",
       "      <td>Chettithody Shamshuddin</td>\n",
       "    </tr>\n",
       "    <tr>\n",
       "      <th>755</th>\n",
       "      <td>11415</td>\n",
       "      <td>2019</td>\n",
       "      <td>Hyderabad</td>\n",
       "      <td>12/05/19</td>\n",
       "      <td>Mumbai Indians</td>\n",
       "      <td>Chennai Super Kings</td>\n",
       "      <td>Mumbai Indians</td>\n",
       "      <td>bat</td>\n",
       "      <td>normal</td>\n",
       "      <td>0</td>\n",
       "      <td>Mumbai Indians</td>\n",
       "      <td>1</td>\n",
       "      <td>0</td>\n",
       "      <td>JJ Bumrah</td>\n",
       "      <td>Rajiv Gandhi Intl. Cricket Stadium</td>\n",
       "      <td>Nitin Menon</td>\n",
       "      <td>Ian Gould</td>\n",
       "      <td>Nigel Llong</td>\n",
       "    </tr>\n",
       "  </tbody>\n",
       "</table>\n",
       "<p>756 rows × 18 columns</p>\n",
       "</div>"
      ],
      "text/plain": [
       "        id  season           city        date                        team1  \\\n",
       "0        1    2017      Hyderabad  2017-04-05          Sunrisers Hyderabad   \n",
       "1        2    2017           Pune  2017-04-06               Mumbai Indians   \n",
       "2        3    2017         Rajkot  2017-04-07                Gujarat Lions   \n",
       "3        4    2017         Indore  2017-04-08       Rising Pune Supergiant   \n",
       "4        5    2017      Bangalore  2017-04-08  Royal Challengers Bangalore   \n",
       "..     ...     ...            ...         ...                          ...   \n",
       "751  11347    2019         Mumbai    05/05/19        Kolkata Knight Riders   \n",
       "752  11412    2019        Chennai    07/05/19          Chennai Super Kings   \n",
       "753  11413    2019  Visakhapatnam    08/05/19          Sunrisers Hyderabad   \n",
       "754  11414    2019  Visakhapatnam    10/05/19               Delhi Capitals   \n",
       "755  11415    2019      Hyderabad    12/05/19               Mumbai Indians   \n",
       "\n",
       "                           team2                  toss_winner toss_decision  \\\n",
       "0    Royal Challengers Bangalore  Royal Challengers Bangalore         field   \n",
       "1         Rising Pune Supergiant       Rising Pune Supergiant         field   \n",
       "2          Kolkata Knight Riders        Kolkata Knight Riders         field   \n",
       "3                Kings XI Punjab              Kings XI Punjab         field   \n",
       "4               Delhi Daredevils  Royal Challengers Bangalore           bat   \n",
       "..                           ...                          ...           ...   \n",
       "751               Mumbai Indians               Mumbai Indians         field   \n",
       "752               Mumbai Indians          Chennai Super Kings           bat   \n",
       "753               Delhi Capitals               Delhi Capitals         field   \n",
       "754          Chennai Super Kings          Chennai Super Kings         field   \n",
       "755          Chennai Super Kings               Mumbai Indians           bat   \n",
       "\n",
       "     result  dl_applied                       winner  win_by_runs  \\\n",
       "0    normal           0          Sunrisers Hyderabad           35   \n",
       "1    normal           0       Rising Pune Supergiant            0   \n",
       "2    normal           0        Kolkata Knight Riders            0   \n",
       "3    normal           0              Kings XI Punjab            0   \n",
       "4    normal           0  Royal Challengers Bangalore           15   \n",
       "..      ...         ...                          ...          ...   \n",
       "751  normal           0               Mumbai Indians            0   \n",
       "752  normal           0               Mumbai Indians            0   \n",
       "753  normal           0               Delhi Capitals            0   \n",
       "754  normal           0          Chennai Super Kings            0   \n",
       "755  normal           0               Mumbai Indians            1   \n",
       "\n",
       "     win_by_wickets player_of_match  \\\n",
       "0                 0    Yuvraj Singh   \n",
       "1                 7       SPD Smith   \n",
       "2                10         CA Lynn   \n",
       "3                 6      GJ Maxwell   \n",
       "4                 0       KM Jadhav   \n",
       "..              ...             ...   \n",
       "751               9       HH Pandya   \n",
       "752               6        AS Yadav   \n",
       "753               2         RR Pant   \n",
       "754               6    F du Plessis   \n",
       "755               0       JJ Bumrah   \n",
       "\n",
       "                                         venue         umpire1  \\\n",
       "0    Rajiv Gandhi International Stadium, Uppal     AY Dandekar   \n",
       "1      Maharashtra Cricket Association Stadium  A Nand Kishore   \n",
       "2       Saurashtra Cricket Association Stadium     Nitin Menon   \n",
       "3                       Holkar Cricket Stadium    AK Chaudhary   \n",
       "4                        M Chinnaswamy Stadium             NaN   \n",
       "..                                         ...             ...   \n",
       "751                           Wankhede Stadium   Nanda Kishore   \n",
       "752                  M. A. Chidambaram Stadium     Nigel Llong   \n",
       "753                           ACA-VDCA Stadium             NaN   \n",
       "754                           ACA-VDCA Stadium   Sundaram Ravi   \n",
       "755         Rajiv Gandhi Intl. Cricket Stadium     Nitin Menon   \n",
       "\n",
       "            umpire2                  umpire3  \n",
       "0          NJ Llong                      NaN  \n",
       "1            S Ravi                      NaN  \n",
       "2         CK Nandan                      NaN  \n",
       "3     C Shamshuddin                      NaN  \n",
       "4               NaN                      NaN  \n",
       "..              ...                      ...  \n",
       "751        O Nandan                   S Ravi  \n",
       "752     Nitin Menon                Ian Gould  \n",
       "753             NaN                      NaN  \n",
       "754  Bruce Oxenford  Chettithody Shamshuddin  \n",
       "755       Ian Gould              Nigel Llong  \n",
       "\n",
       "[756 rows x 18 columns]"
      ]
     },
     "execution_count": 1,
     "metadata": {},
     "output_type": "execute_result"
    }
   ],
   "source": [
    "import pandas as pd\n",
    "df_matches=pd.read_csv('matches.csv')\n",
    "delivery=pd.read_csv('deliveries.csv')\n",
    "df_matches"
   ]
  },
  {
   "cell_type": "markdown",
   "id": "15a421cb",
   "metadata": {},
   "source": [
    "#So there are 756 rows and 18 columns. 756 rows imply that there were 756 IPL matches held between 2008 and 2019."
   ]
  },
  {
   "cell_type": "markdown",
   "id": "9f6cffbe",
   "metadata": {},
   "source": [
    "### Step 2: Clean the data"
   ]
  },
  {
   "cell_type": "code",
   "execution_count": 25,
   "id": "13e42110",
   "metadata": {},
   "outputs": [
    {
     "data": {
      "text/html": [
       "<div>\n",
       "<style scoped>\n",
       "    .dataframe tbody tr th:only-of-type {\n",
       "        vertical-align: middle;\n",
       "    }\n",
       "\n",
       "    .dataframe tbody tr th {\n",
       "        vertical-align: top;\n",
       "    }\n",
       "\n",
       "    .dataframe thead th {\n",
       "        text-align: right;\n",
       "    }\n",
       "</style>\n",
       "<table border=\"1\" class=\"dataframe\">\n",
       "  <thead>\n",
       "    <tr style=\"text-align: right;\">\n",
       "      <th></th>\n",
       "      <th>id</th>\n",
       "      <th>season</th>\n",
       "      <th>dl_applied</th>\n",
       "      <th>win_by_runs</th>\n",
       "      <th>win_by_wickets</th>\n",
       "    </tr>\n",
       "  </thead>\n",
       "  <tbody>\n",
       "    <tr>\n",
       "      <th>count</th>\n",
       "      <td>756.000000</td>\n",
       "      <td>756.000000</td>\n",
       "      <td>756.000000</td>\n",
       "      <td>756.000000</td>\n",
       "      <td>756.000000</td>\n",
       "    </tr>\n",
       "    <tr>\n",
       "      <th>mean</th>\n",
       "      <td>1792.178571</td>\n",
       "      <td>2013.444444</td>\n",
       "      <td>0.025132</td>\n",
       "      <td>13.283069</td>\n",
       "      <td>3.350529</td>\n",
       "    </tr>\n",
       "    <tr>\n",
       "      <th>std</th>\n",
       "      <td>3464.478148</td>\n",
       "      <td>3.366895</td>\n",
       "      <td>0.156630</td>\n",
       "      <td>23.471144</td>\n",
       "      <td>3.387963</td>\n",
       "    </tr>\n",
       "    <tr>\n",
       "      <th>min</th>\n",
       "      <td>1.000000</td>\n",
       "      <td>2008.000000</td>\n",
       "      <td>0.000000</td>\n",
       "      <td>0.000000</td>\n",
       "      <td>0.000000</td>\n",
       "    </tr>\n",
       "    <tr>\n",
       "      <th>25%</th>\n",
       "      <td>189.750000</td>\n",
       "      <td>2011.000000</td>\n",
       "      <td>0.000000</td>\n",
       "      <td>0.000000</td>\n",
       "      <td>0.000000</td>\n",
       "    </tr>\n",
       "    <tr>\n",
       "      <th>50%</th>\n",
       "      <td>378.500000</td>\n",
       "      <td>2013.000000</td>\n",
       "      <td>0.000000</td>\n",
       "      <td>0.000000</td>\n",
       "      <td>4.000000</td>\n",
       "    </tr>\n",
       "    <tr>\n",
       "      <th>75%</th>\n",
       "      <td>567.250000</td>\n",
       "      <td>2016.000000</td>\n",
       "      <td>0.000000</td>\n",
       "      <td>19.000000</td>\n",
       "      <td>6.000000</td>\n",
       "    </tr>\n",
       "    <tr>\n",
       "      <th>max</th>\n",
       "      <td>11415.000000</td>\n",
       "      <td>2019.000000</td>\n",
       "      <td>1.000000</td>\n",
       "      <td>146.000000</td>\n",
       "      <td>10.000000</td>\n",
       "    </tr>\n",
       "  </tbody>\n",
       "</table>\n",
       "</div>"
      ],
      "text/plain": [
       "                 id       season  dl_applied  win_by_runs  win_by_wickets\n",
       "count    756.000000   756.000000  756.000000   756.000000      756.000000\n",
       "mean    1792.178571  2013.444444    0.025132    13.283069        3.350529\n",
       "std     3464.478148     3.366895    0.156630    23.471144        3.387963\n",
       "min        1.000000  2008.000000    0.000000     0.000000        0.000000\n",
       "25%      189.750000  2011.000000    0.000000     0.000000        0.000000\n",
       "50%      378.500000  2013.000000    0.000000     0.000000        4.000000\n",
       "75%      567.250000  2016.000000    0.000000    19.000000        6.000000\n",
       "max    11415.000000  2019.000000    1.000000   146.000000       10.000000"
      ]
     },
     "execution_count": 25,
     "metadata": {},
     "output_type": "execute_result"
    }
   ],
   "source": [
    "df_matches.describe()"
   ]
  },
  {
   "cell_type": "code",
   "execution_count": null,
   "id": "4a09760c",
   "metadata": {},
   "outputs": [],
   "source": [
    "#Observations from Describe()Is as below :\n",
    "#1. The .csv file has data of IPL matches starting from the season 2008 to 2019.\n",
    "#2.The biggest margin of victory for the team batting first(win_by_runs) is 146 runs.\n",
    "#3.The biggest victory of the team batting second(win_by_wickets) is by 10 wickets.\n",
    "#4.There were 756 IPL matches hosted from 2008 to 2019"
   ]
  },
  {
   "cell_type": "markdown",
   "id": "58aa519d",
   "metadata": {},
   "source": [
    "Let’s view the unique values of each column to help us understand the dataset better."
   ]
  },
  {
   "cell_type": "code",
   "execution_count": 14,
   "id": "891cefea",
   "metadata": {},
   "outputs": [
    {
     "data": {
      "text/plain": [
       "Index(['id', 'season', 'city', 'date', 'team1', 'team2', 'toss_winner',\n",
       "       'toss_decision', 'result', 'dl_applied', 'winner', 'win_by_runs',\n",
       "       'win_by_wickets', 'player_of_match', 'venue', 'umpire1', 'umpire2',\n",
       "       'umpire3'],\n",
       "      dtype='object')"
      ]
     },
     "execution_count": 14,
     "metadata": {},
     "output_type": "execute_result"
    }
   ],
   "source": [
    "df_matches.columns"
   ]
  },
  {
   "cell_type": "code",
   "execution_count": 20,
   "id": "559a56f6",
   "metadata": {},
   "outputs": [
    {
     "name": "stdout",
     "output_type": "stream",
     "text": [
      "[2017 2008 2009 2010 2011 2012 2013 2014 2015 2016 2018 2019]\n",
      "['Hyderabad' 'Pune' 'Rajkot' 'Indore' 'Bangalore' 'Mumbai' 'Kolkata'\n",
      " 'Delhi' 'Chandigarh' 'Kanpur' 'Jaipur' 'Chennai' 'Cape Town'\n",
      " 'Port Elizabeth' 'Durban' 'Centurion' 'East London' 'Johannesburg'\n",
      " 'Kimberley' 'Bloemfontein' 'Ahmedabad' 'Cuttack' 'Nagpur' 'Dharamsala'\n",
      " 'Kochi' 'Visakhapatnam' 'Raipur' 'Ranchi' 'Abu Dhabi' 'Sharjah' nan\n",
      " 'Mohali' 'Bengaluru']\n",
      "['Rajiv Gandhi International Stadium, Uppal'\n",
      " 'Maharashtra Cricket Association Stadium'\n",
      " 'Saurashtra Cricket Association Stadium' 'Holkar Cricket Stadium'\n",
      " 'M Chinnaswamy Stadium' 'Wankhede Stadium' 'Eden Gardens'\n",
      " 'Feroz Shah Kotla' 'Punjab Cricket Association IS Bindra Stadium, Mohali'\n",
      " 'Green Park' 'Punjab Cricket Association Stadium, Mohali'\n",
      " 'Sawai Mansingh Stadium' 'MA Chidambaram Stadium, Chepauk'\n",
      " 'Dr DY Patil Sports Academy' 'Newlands' \"St George's Park\" 'Kingsmead'\n",
      " 'SuperSport Park' 'Buffalo Park' 'New Wanderers Stadium'\n",
      " 'De Beers Diamond Oval' 'OUTsurance Oval' 'Brabourne Stadium'\n",
      " 'Sardar Patel Stadium, Motera' 'Barabati Stadium'\n",
      " 'Vidarbha Cricket Association Stadium, Jamtha'\n",
      " 'Himachal Pradesh Cricket Association Stadium' 'Nehru Stadium'\n",
      " 'Dr. Y.S. Rajasekhara Reddy ACA-VDCA Cricket Stadium'\n",
      " 'Subrata Roy Sahara Stadium'\n",
      " 'Shaheed Veer Narayan Singh International Stadium'\n",
      " 'JSCA International Stadium Complex' 'Sheikh Zayed Stadium'\n",
      " 'Sharjah Cricket Stadium' 'Dubai International Cricket Stadium'\n",
      " 'M. A. Chidambaram Stadium' 'Feroz Shah Kotla Ground'\n",
      " 'M. Chinnaswamy Stadium' 'Rajiv Gandhi Intl. Cricket Stadium'\n",
      " 'IS Bindra Stadium' 'ACA-VDCA Stadium']\n"
     ]
    }
   ],
   "source": [
    "print(df_matches['season'].unique())\n",
    "print(df_matches['city'].unique())\n",
    "print(df_matches['venue'].unique())"
   ]
  },
  {
   "cell_type": "code",
   "execution_count": 137,
   "id": "a4c70128",
   "metadata": {},
   "outputs": [
    {
     "data": {
      "text/plain": [
       "id                   0\n",
       "season               0\n",
       "city                 7\n",
       "date                 0\n",
       "team1                0\n",
       "team2                0\n",
       "toss_winner          0\n",
       "toss_decision        0\n",
       "result               0\n",
       "dl_applied           0\n",
       "winner               4\n",
       "win_by_runs          0\n",
       "win_by_wickets       0\n",
       "player_of_match      4\n",
       "venue                0\n",
       "umpire1              2\n",
       "umpire2              2\n",
       "umpire3            637\n",
       "dtype: int64"
      ]
     },
     "execution_count": 137,
     "metadata": {},
     "output_type": "execute_result"
    }
   ],
   "source": [
    "#It’s imperative to know the count of NaN values for each column before we proceed further.\n",
    "df_matches.isnull().sum()"
   ]
  },
  {
   "cell_type": "code",
   "execution_count": 138,
   "id": "23791e9c",
   "metadata": {},
   "outputs": [
    {
     "data": {
      "text/html": [
       "<div>\n",
       "<style scoped>\n",
       "    .dataframe tbody tr th:only-of-type {\n",
       "        vertical-align: middle;\n",
       "    }\n",
       "\n",
       "    .dataframe tbody tr th {\n",
       "        vertical-align: top;\n",
       "    }\n",
       "\n",
       "    .dataframe thead th {\n",
       "        text-align: right;\n",
       "    }\n",
       "</style>\n",
       "<table border=\"1\" class=\"dataframe\">\n",
       "  <thead>\n",
       "    <tr style=\"text-align: right;\">\n",
       "      <th></th>\n",
       "      <th>id</th>\n",
       "      <th>season</th>\n",
       "      <th>city</th>\n",
       "      <th>date</th>\n",
       "      <th>team1</th>\n",
       "      <th>team2</th>\n",
       "      <th>toss_winner</th>\n",
       "      <th>toss_decision</th>\n",
       "      <th>result</th>\n",
       "      <th>dl_applied</th>\n",
       "      <th>winner</th>\n",
       "      <th>win_by_runs</th>\n",
       "      <th>win_by_wickets</th>\n",
       "      <th>player_of_match</th>\n",
       "      <th>venue</th>\n",
       "      <th>umpire1</th>\n",
       "      <th>umpire2</th>\n",
       "    </tr>\n",
       "  </thead>\n",
       "  <tbody>\n",
       "    <tr>\n",
       "      <th>0</th>\n",
       "      <td>1</td>\n",
       "      <td>2017</td>\n",
       "      <td>Hyderabad</td>\n",
       "      <td>2017-04-05</td>\n",
       "      <td>Sunrisers Hyderabad</td>\n",
       "      <td>Royal Challengers Bangalore</td>\n",
       "      <td>Royal Challengers Bangalore</td>\n",
       "      <td>field</td>\n",
       "      <td>normal</td>\n",
       "      <td>0</td>\n",
       "      <td>Sunrisers Hyderabad</td>\n",
       "      <td>35</td>\n",
       "      <td>0</td>\n",
       "      <td>Yuvraj Singh</td>\n",
       "      <td>Rajiv Gandhi International Stadium, Uppal</td>\n",
       "      <td>AY Dandekar</td>\n",
       "      <td>NJ Llong</td>\n",
       "    </tr>\n",
       "    <tr>\n",
       "      <th>1</th>\n",
       "      <td>2</td>\n",
       "      <td>2017</td>\n",
       "      <td>Pune</td>\n",
       "      <td>2017-04-06</td>\n",
       "      <td>Mumbai Indians</td>\n",
       "      <td>Rising Pune Supergiant</td>\n",
       "      <td>Rising Pune Supergiant</td>\n",
       "      <td>field</td>\n",
       "      <td>normal</td>\n",
       "      <td>0</td>\n",
       "      <td>Rising Pune Supergiant</td>\n",
       "      <td>0</td>\n",
       "      <td>7</td>\n",
       "      <td>SPD Smith</td>\n",
       "      <td>Maharashtra Cricket Association Stadium</td>\n",
       "      <td>A Nand Kishore</td>\n",
       "      <td>S Ravi</td>\n",
       "    </tr>\n",
       "    <tr>\n",
       "      <th>2</th>\n",
       "      <td>3</td>\n",
       "      <td>2017</td>\n",
       "      <td>Rajkot</td>\n",
       "      <td>2017-04-07</td>\n",
       "      <td>Gujarat Lions</td>\n",
       "      <td>Kolkata Knight Riders</td>\n",
       "      <td>Kolkata Knight Riders</td>\n",
       "      <td>field</td>\n",
       "      <td>normal</td>\n",
       "      <td>0</td>\n",
       "      <td>Kolkata Knight Riders</td>\n",
       "      <td>0</td>\n",
       "      <td>10</td>\n",
       "      <td>CA Lynn</td>\n",
       "      <td>Saurashtra Cricket Association Stadium</td>\n",
       "      <td>Nitin Menon</td>\n",
       "      <td>CK Nandan</td>\n",
       "    </tr>\n",
       "    <tr>\n",
       "      <th>3</th>\n",
       "      <td>4</td>\n",
       "      <td>2017</td>\n",
       "      <td>Indore</td>\n",
       "      <td>2017-04-08</td>\n",
       "      <td>Rising Pune Supergiant</td>\n",
       "      <td>Kings XI Punjab</td>\n",
       "      <td>Kings XI Punjab</td>\n",
       "      <td>field</td>\n",
       "      <td>normal</td>\n",
       "      <td>0</td>\n",
       "      <td>Kings XI Punjab</td>\n",
       "      <td>0</td>\n",
       "      <td>6</td>\n",
       "      <td>GJ Maxwell</td>\n",
       "      <td>Holkar Cricket Stadium</td>\n",
       "      <td>AK Chaudhary</td>\n",
       "      <td>C Shamshuddin</td>\n",
       "    </tr>\n",
       "    <tr>\n",
       "      <th>4</th>\n",
       "      <td>5</td>\n",
       "      <td>2017</td>\n",
       "      <td>Bangalore</td>\n",
       "      <td>2017-04-08</td>\n",
       "      <td>Royal Challengers Bangalore</td>\n",
       "      <td>Delhi Daredevils</td>\n",
       "      <td>Royal Challengers Bangalore</td>\n",
       "      <td>bat</td>\n",
       "      <td>normal</td>\n",
       "      <td>0</td>\n",
       "      <td>Royal Challengers Bangalore</td>\n",
       "      <td>15</td>\n",
       "      <td>0</td>\n",
       "      <td>KM Jadhav</td>\n",
       "      <td>M Chinnaswamy Stadium</td>\n",
       "      <td>NaN</td>\n",
       "      <td>NaN</td>\n",
       "    </tr>\n",
       "    <tr>\n",
       "      <th>...</th>\n",
       "      <td>...</td>\n",
       "      <td>...</td>\n",
       "      <td>...</td>\n",
       "      <td>...</td>\n",
       "      <td>...</td>\n",
       "      <td>...</td>\n",
       "      <td>...</td>\n",
       "      <td>...</td>\n",
       "      <td>...</td>\n",
       "      <td>...</td>\n",
       "      <td>...</td>\n",
       "      <td>...</td>\n",
       "      <td>...</td>\n",
       "      <td>...</td>\n",
       "      <td>...</td>\n",
       "      <td>...</td>\n",
       "      <td>...</td>\n",
       "    </tr>\n",
       "    <tr>\n",
       "      <th>751</th>\n",
       "      <td>11347</td>\n",
       "      <td>2019</td>\n",
       "      <td>Mumbai</td>\n",
       "      <td>05/05/19</td>\n",
       "      <td>Kolkata Knight Riders</td>\n",
       "      <td>Mumbai Indians</td>\n",
       "      <td>Mumbai Indians</td>\n",
       "      <td>field</td>\n",
       "      <td>normal</td>\n",
       "      <td>0</td>\n",
       "      <td>Mumbai Indians</td>\n",
       "      <td>0</td>\n",
       "      <td>9</td>\n",
       "      <td>HH Pandya</td>\n",
       "      <td>Wankhede Stadium</td>\n",
       "      <td>Nanda Kishore</td>\n",
       "      <td>O Nandan</td>\n",
       "    </tr>\n",
       "    <tr>\n",
       "      <th>752</th>\n",
       "      <td>11412</td>\n",
       "      <td>2019</td>\n",
       "      <td>Chennai</td>\n",
       "      <td>07/05/19</td>\n",
       "      <td>Chennai Super Kings</td>\n",
       "      <td>Mumbai Indians</td>\n",
       "      <td>Chennai Super Kings</td>\n",
       "      <td>bat</td>\n",
       "      <td>normal</td>\n",
       "      <td>0</td>\n",
       "      <td>Mumbai Indians</td>\n",
       "      <td>0</td>\n",
       "      <td>6</td>\n",
       "      <td>AS Yadav</td>\n",
       "      <td>M. A. Chidambaram Stadium</td>\n",
       "      <td>Nigel Llong</td>\n",
       "      <td>Nitin Menon</td>\n",
       "    </tr>\n",
       "    <tr>\n",
       "      <th>753</th>\n",
       "      <td>11413</td>\n",
       "      <td>2019</td>\n",
       "      <td>Visakhapatnam</td>\n",
       "      <td>08/05/19</td>\n",
       "      <td>Sunrisers Hyderabad</td>\n",
       "      <td>Delhi Capitals</td>\n",
       "      <td>Delhi Capitals</td>\n",
       "      <td>field</td>\n",
       "      <td>normal</td>\n",
       "      <td>0</td>\n",
       "      <td>Delhi Capitals</td>\n",
       "      <td>0</td>\n",
       "      <td>2</td>\n",
       "      <td>RR Pant</td>\n",
       "      <td>ACA-VDCA Stadium</td>\n",
       "      <td>NaN</td>\n",
       "      <td>NaN</td>\n",
       "    </tr>\n",
       "    <tr>\n",
       "      <th>754</th>\n",
       "      <td>11414</td>\n",
       "      <td>2019</td>\n",
       "      <td>Visakhapatnam</td>\n",
       "      <td>10/05/19</td>\n",
       "      <td>Delhi Capitals</td>\n",
       "      <td>Chennai Super Kings</td>\n",
       "      <td>Chennai Super Kings</td>\n",
       "      <td>field</td>\n",
       "      <td>normal</td>\n",
       "      <td>0</td>\n",
       "      <td>Chennai Super Kings</td>\n",
       "      <td>0</td>\n",
       "      <td>6</td>\n",
       "      <td>F du Plessis</td>\n",
       "      <td>ACA-VDCA Stadium</td>\n",
       "      <td>Sundaram Ravi</td>\n",
       "      <td>Bruce Oxenford</td>\n",
       "    </tr>\n",
       "    <tr>\n",
       "      <th>755</th>\n",
       "      <td>11415</td>\n",
       "      <td>2019</td>\n",
       "      <td>Hyderabad</td>\n",
       "      <td>12/05/19</td>\n",
       "      <td>Mumbai Indians</td>\n",
       "      <td>Chennai Super Kings</td>\n",
       "      <td>Mumbai Indians</td>\n",
       "      <td>bat</td>\n",
       "      <td>normal</td>\n",
       "      <td>0</td>\n",
       "      <td>Mumbai Indians</td>\n",
       "      <td>1</td>\n",
       "      <td>0</td>\n",
       "      <td>JJ Bumrah</td>\n",
       "      <td>Rajiv Gandhi Intl. Cricket Stadium</td>\n",
       "      <td>Nitin Menon</td>\n",
       "      <td>Ian Gould</td>\n",
       "    </tr>\n",
       "  </tbody>\n",
       "</table>\n",
       "<p>756 rows × 17 columns</p>\n",
       "</div>"
      ],
      "text/plain": [
       "        id  season           city        date                        team1  \\\n",
       "0        1    2017      Hyderabad  2017-04-05          Sunrisers Hyderabad   \n",
       "1        2    2017           Pune  2017-04-06               Mumbai Indians   \n",
       "2        3    2017         Rajkot  2017-04-07                Gujarat Lions   \n",
       "3        4    2017         Indore  2017-04-08       Rising Pune Supergiant   \n",
       "4        5    2017      Bangalore  2017-04-08  Royal Challengers Bangalore   \n",
       "..     ...     ...            ...         ...                          ...   \n",
       "751  11347    2019         Mumbai    05/05/19        Kolkata Knight Riders   \n",
       "752  11412    2019        Chennai    07/05/19          Chennai Super Kings   \n",
       "753  11413    2019  Visakhapatnam    08/05/19          Sunrisers Hyderabad   \n",
       "754  11414    2019  Visakhapatnam    10/05/19               Delhi Capitals   \n",
       "755  11415    2019      Hyderabad    12/05/19               Mumbai Indians   \n",
       "\n",
       "                           team2                  toss_winner toss_decision  \\\n",
       "0    Royal Challengers Bangalore  Royal Challengers Bangalore         field   \n",
       "1         Rising Pune Supergiant       Rising Pune Supergiant         field   \n",
       "2          Kolkata Knight Riders        Kolkata Knight Riders         field   \n",
       "3                Kings XI Punjab              Kings XI Punjab         field   \n",
       "4               Delhi Daredevils  Royal Challengers Bangalore           bat   \n",
       "..                           ...                          ...           ...   \n",
       "751               Mumbai Indians               Mumbai Indians         field   \n",
       "752               Mumbai Indians          Chennai Super Kings           bat   \n",
       "753               Delhi Capitals               Delhi Capitals         field   \n",
       "754          Chennai Super Kings          Chennai Super Kings         field   \n",
       "755          Chennai Super Kings               Mumbai Indians           bat   \n",
       "\n",
       "     result  dl_applied                       winner  win_by_runs  \\\n",
       "0    normal           0          Sunrisers Hyderabad           35   \n",
       "1    normal           0       Rising Pune Supergiant            0   \n",
       "2    normal           0        Kolkata Knight Riders            0   \n",
       "3    normal           0              Kings XI Punjab            0   \n",
       "4    normal           0  Royal Challengers Bangalore           15   \n",
       "..      ...         ...                          ...          ...   \n",
       "751  normal           0               Mumbai Indians            0   \n",
       "752  normal           0               Mumbai Indians            0   \n",
       "753  normal           0               Delhi Capitals            0   \n",
       "754  normal           0          Chennai Super Kings            0   \n",
       "755  normal           0               Mumbai Indians            1   \n",
       "\n",
       "     win_by_wickets player_of_match  \\\n",
       "0                 0    Yuvraj Singh   \n",
       "1                 7       SPD Smith   \n",
       "2                10         CA Lynn   \n",
       "3                 6      GJ Maxwell   \n",
       "4                 0       KM Jadhav   \n",
       "..              ...             ...   \n",
       "751               9       HH Pandya   \n",
       "752               6        AS Yadav   \n",
       "753               2         RR Pant   \n",
       "754               6    F du Plessis   \n",
       "755               0       JJ Bumrah   \n",
       "\n",
       "                                         venue         umpire1         umpire2  \n",
       "0    Rajiv Gandhi International Stadium, Uppal     AY Dandekar        NJ Llong  \n",
       "1      Maharashtra Cricket Association Stadium  A Nand Kishore          S Ravi  \n",
       "2       Saurashtra Cricket Association Stadium     Nitin Menon       CK Nandan  \n",
       "3                       Holkar Cricket Stadium    AK Chaudhary   C Shamshuddin  \n",
       "4                        M Chinnaswamy Stadium             NaN             NaN  \n",
       "..                                         ...             ...             ...  \n",
       "751                           Wankhede Stadium   Nanda Kishore        O Nandan  \n",
       "752                  M. A. Chidambaram Stadium     Nigel Llong     Nitin Menon  \n",
       "753                           ACA-VDCA Stadium             NaN             NaN  \n",
       "754                           ACA-VDCA Stadium   Sundaram Ravi  Bruce Oxenford  \n",
       "755         Rajiv Gandhi Intl. Cricket Stadium     Nitin Menon       Ian Gould  \n",
       "\n",
       "[756 rows x 17 columns]"
      ]
     },
     "execution_count": 138,
     "metadata": {},
     "output_type": "execute_result"
    }
   ],
   "source": [
    "#The column ‘umpire3’ has a significant number of NaN values. As the off-field umpire parameter is insignificant, we can drop this column. \n",
    "df_matches=df_matches.drop(columns=['umpire3'])\n",
    "\n",
    "df_matches"
   ]
  },
  {
   "cell_type": "code",
   "execution_count": 11,
   "id": "0a15f529",
   "metadata": {},
   "outputs": [
    {
     "data": {
      "text/plain": [
       "id                 0\n",
       "season             0\n",
       "city               7\n",
       "date               0\n",
       "team1              0\n",
       "team2              0\n",
       "toss_winner        0\n",
       "toss_decision      0\n",
       "result             0\n",
       "dl_applied         0\n",
       "winner             4\n",
       "win_by_runs        0\n",
       "win_by_wickets     0\n",
       "player_of_match    4\n",
       "venue              0\n",
       "umpire1            2\n",
       "umpire2            2\n",
       "dtype: int64"
      ]
     },
     "execution_count": 11,
     "metadata": {},
     "output_type": "execute_result"
    }
   ],
   "source": [
    "df_matches.isnull().sum()"
   ]
  },
  {
   "cell_type": "markdown",
   "id": "c925a606",
   "metadata": {},
   "source": [
    "# # # Step 3:Process and Visualise the data\n",
    "Now that our data set has been cleaned up, it’s time to do the in-depth analysis and visualization."
   ]
  },
  {
   "cell_type": "code",
   "execution_count": 8,
   "id": "fc37a865",
   "metadata": {},
   "outputs": [],
   "source": [
    "#importing the libraries to manipulate and visualize data\n",
    "import seaborn as sns\n",
    "import matplotlib\n",
    "import matplotlib.pyplot as plt\n",
    "%matplotlib inline"
   ]
  },
  {
   "cell_type": "code",
   "execution_count": 139,
   "id": "ad0cc685",
   "metadata": {},
   "outputs": [
    {
     "name": "stdout",
     "output_type": "stream",
     "text": [
      "Total Matches Played: 756\n",
      " \n",
      " Venues Played At: ['Hyderabad' 'Pune' 'Rajkot' 'Indore' 'Bangalore' 'Mumbai' 'Kolkata'\n",
      " 'Delhi' 'Chandigarh' 'Kanpur' 'Jaipur' 'Chennai' 'Cape Town'\n",
      " 'Port Elizabeth' 'Durban' 'Centurion' 'East London' 'Johannesburg'\n",
      " 'Kimberley' 'Bloemfontein' 'Ahmedabad' 'Cuttack' 'Nagpur' 'Dharamsala'\n",
      " 'Kochi' 'Visakhapatnam' 'Raipur' 'Ranchi' 'Abu Dhabi' 'Sharjah' nan\n",
      " 'Mohali' 'Bengaluru']\n",
      " \n",
      " Teams : ['Sunrisers Hyderabad' 'Mumbai Indians' 'Gujarat Lions'\n",
      " 'Rising Pune Supergiant' 'Royal Challengers Bangalore'\n",
      " 'Kolkata Knight Riders' 'Delhi Daredevils' 'Kings XI Punjab'\n",
      " 'Chennai Super Kings' 'Rajasthan Royals' 'Deccan Chargers'\n",
      " 'Kochi Tuskers Kerala' 'Pune Warriors' 'Rising Pune Supergiants'\n",
      " 'Delhi Capitals']\n"
     ]
    }
   ],
   "source": [
    "#Some Basic Analysis\n",
    "print('Total Matches Played:',df_matches.shape[0])\n",
    "print(' \\n Venues Played At:',df_matches['city'].unique())     \n",
    "print(' \\n Teams :',df_matches['team1'].unique())"
   ]
  },
  {
   "cell_type": "code",
   "execution_count": 15,
   "id": "0432132a",
   "metadata": {},
   "outputs": [
    {
     "name": "stdout",
     "output_type": "stream",
     "text": [
      "Total venues played at: 32\n",
      "\n",
      "Total umpires  61\n"
     ]
    }
   ],
   "source": [
    "print('Total venues played at:',df_matches['city'].nunique())\n",
    "print('\\nTotal umpires ',df_matches['umpire1'].nunique())"
   ]
  },
  {
   "cell_type": "code",
   "execution_count": 140,
   "id": "fd67193d",
   "metadata": {},
   "outputs": [
    {
     "name": "stdout",
     "output_type": "stream",
     "text": [
      "CH Gayle  : has most man of the match awards\n",
      "Mumbai Indians : has the highest number of match wins\n"
     ]
    }
   ],
   "source": [
    "print((df_matches['player_of_match'].value_counts()).idxmax(),' : has most man of the match awards')\n",
    "print(((df_matches['winner']).value_counts()).idxmax(),': has the highest number of match wins')"
   ]
  },
  {
   "cell_type": "code",
   "execution_count": 141,
   "id": "04dde357",
   "metadata": {},
   "outputs": [
    {
     "name": "stdout",
     "output_type": "stream",
     "text": [
      " team win by maximum runs\n"
     ]
    },
    {
     "data": {
      "text/html": [
       "<div>\n",
       "<style scoped>\n",
       "    .dataframe tbody tr th:only-of-type {\n",
       "        vertical-align: middle;\n",
       "    }\n",
       "\n",
       "    .dataframe tbody tr th {\n",
       "        vertical-align: top;\n",
       "    }\n",
       "\n",
       "    .dataframe thead th {\n",
       "        text-align: right;\n",
       "    }\n",
       "</style>\n",
       "<table border=\"1\" class=\"dataframe\">\n",
       "  <thead>\n",
       "    <tr style=\"text-align: right;\">\n",
       "      <th></th>\n",
       "      <th>season</th>\n",
       "      <th>team1</th>\n",
       "      <th>team2</th>\n",
       "      <th>winner</th>\n",
       "      <th>win_by_runs</th>\n",
       "    </tr>\n",
       "  </thead>\n",
       "  <tbody>\n",
       "    <tr>\n",
       "      <th>43</th>\n",
       "      <td>2017</td>\n",
       "      <td>Mumbai Indians</td>\n",
       "      <td>Delhi Daredevils</td>\n",
       "      <td>Mumbai Indians</td>\n",
       "      <td>146</td>\n",
       "    </tr>\n",
       "  </tbody>\n",
       "</table>\n",
       "</div>"
      ],
      "text/plain": [
       "    season           team1             team2          winner  win_by_runs\n",
       "43    2017  Mumbai Indians  Delhi Daredevils  Mumbai Indians          146"
      ]
     },
     "execution_count": 141,
     "metadata": {},
     "output_type": "execute_result"
    }
   ],
   "source": [
    "print(\" team win by maximum runs\")\n",
    "df=df_matches.iloc[[df_matches['win_by_runs'].idxmax()]]\n",
    "df[['season','team1','team2','winner','win_by_runs']]"
   ]
  },
  {
   "cell_type": "code",
   "execution_count": 142,
   "id": "6883c919",
   "metadata": {},
   "outputs": [
    {
     "data": {
      "text/plain": [
       "season  winner                     \n",
       "2008    Rajasthan Royals               13\n",
       "        Kings XI Punjab                10\n",
       "        Chennai Super Kings             9\n",
       "        Delhi Daredevils                7\n",
       "        Mumbai Indians                  7\n",
       "                                       ..\n",
       "2019    Kings XI Punjab                 6\n",
       "        Kolkata Knight Riders           6\n",
       "        Sunrisers Hyderabad             6\n",
       "        Rajasthan Royals                5\n",
       "        Royal Challengers Bangalore     5\n",
       "Name: winner, Length: 100, dtype: int64"
      ]
     },
     "execution_count": 142,
     "metadata": {},
     "output_type": "execute_result"
    }
   ],
   "source": [
    "#Let’s analyze the team with the most wins in each season.\n",
    "teams_per_season = df_matches.groupby('season')['winner'].value_counts()\n",
    "teams_per_season\n",
    "\n"
   ]
  },
  {
   "cell_type": "code",
   "execution_count": 143,
   "id": "8d5df1d5",
   "metadata": {},
   "outputs": [
    {
     "name": "stdout",
     "output_type": "stream",
     "text": [
      "((2008, 'Rajasthan Royals'), 13)\n",
      "((2009, 'Delhi Daredevils'), 10)\n",
      "((2010, 'Mumbai Indians'), 11)\n",
      "((2011, 'Chennai Super Kings'), 11)\n",
      "((2012, 'Kolkata Knight Riders'), 12)\n",
      "((2013, 'Mumbai Indians'), 13)\n",
      "((2014, 'Kings XI Punjab'), 12)\n",
      "((2015, 'Chennai Super Kings'), 10)\n",
      "((2016, 'Sunrisers Hyderabad'), 11)\n",
      "((2017, 'Mumbai Indians'), 12)\n",
      "((2018, 'Chennai Super Kings'), 11)\n",
      "((2019, 'Mumbai Indians'), 11)\n"
     ]
    }
   ],
   "source": [
    "year = 2008\n",
    "win_per_season_df = pd.DataFrame(columns=['year', 'team', 'wins'])\n",
    "win_per_season_df = pd.DataFrame(columns=['year', 'team', 'wins'])\n",
    "for items in teams_per_season.iteritems():    \n",
    "    if items[0][0]==year:\n",
    "        print(items)\n",
    "        win_series = pd.DataFrame({\n",
    "            'year': [items[0][0]],\n",
    "            'team': [items[0][1]],\n",
    "            'wins': [items[1]]\n",
    "        })\n",
    "        win_per_season_df = win_per_season_df.append(win_series)\n",
    "        year += 1 "
   ]
  },
  {
   "cell_type": "code",
   "execution_count": 131,
   "id": "bac16b3e",
   "metadata": {},
   "outputs": [
    {
     "data": {
      "text/html": [
       "<div>\n",
       "<style scoped>\n",
       "    .dataframe tbody tr th:only-of-type {\n",
       "        vertical-align: middle;\n",
       "    }\n",
       "\n",
       "    .dataframe tbody tr th {\n",
       "        vertical-align: top;\n",
       "    }\n",
       "\n",
       "    .dataframe thead th {\n",
       "        text-align: right;\n",
       "    }\n",
       "</style>\n",
       "<table border=\"1\" class=\"dataframe\">\n",
       "  <thead>\n",
       "    <tr style=\"text-align: right;\">\n",
       "      <th></th>\n",
       "      <th>year</th>\n",
       "      <th>team</th>\n",
       "      <th>wins</th>\n",
       "    </tr>\n",
       "  </thead>\n",
       "  <tbody>\n",
       "    <tr>\n",
       "      <th>0</th>\n",
       "      <td>2008</td>\n",
       "      <td>RR</td>\n",
       "      <td>13</td>\n",
       "    </tr>\n",
       "    <tr>\n",
       "      <th>0</th>\n",
       "      <td>2009</td>\n",
       "      <td>DD</td>\n",
       "      <td>10</td>\n",
       "    </tr>\n",
       "    <tr>\n",
       "      <th>0</th>\n",
       "      <td>2010</td>\n",
       "      <td>MI</td>\n",
       "      <td>11</td>\n",
       "    </tr>\n",
       "    <tr>\n",
       "      <th>0</th>\n",
       "      <td>2011</td>\n",
       "      <td>CSK</td>\n",
       "      <td>11</td>\n",
       "    </tr>\n",
       "    <tr>\n",
       "      <th>0</th>\n",
       "      <td>2012</td>\n",
       "      <td>KKR</td>\n",
       "      <td>12</td>\n",
       "    </tr>\n",
       "    <tr>\n",
       "      <th>0</th>\n",
       "      <td>2013</td>\n",
       "      <td>MI</td>\n",
       "      <td>13</td>\n",
       "    </tr>\n",
       "    <tr>\n",
       "      <th>0</th>\n",
       "      <td>2014</td>\n",
       "      <td>KXIP</td>\n",
       "      <td>12</td>\n",
       "    </tr>\n",
       "    <tr>\n",
       "      <th>0</th>\n",
       "      <td>2015</td>\n",
       "      <td>CSK</td>\n",
       "      <td>10</td>\n",
       "    </tr>\n",
       "    <tr>\n",
       "      <th>0</th>\n",
       "      <td>2016</td>\n",
       "      <td>SRH</td>\n",
       "      <td>11</td>\n",
       "    </tr>\n",
       "    <tr>\n",
       "      <th>0</th>\n",
       "      <td>2017</td>\n",
       "      <td>MI</td>\n",
       "      <td>12</td>\n",
       "    </tr>\n",
       "    <tr>\n",
       "      <th>0</th>\n",
       "      <td>2018</td>\n",
       "      <td>CSK</td>\n",
       "      <td>11</td>\n",
       "    </tr>\n",
       "    <tr>\n",
       "      <th>0</th>\n",
       "      <td>2019</td>\n",
       "      <td>MI</td>\n",
       "      <td>11</td>\n",
       "    </tr>\n",
       "  </tbody>\n",
       "</table>\n",
       "</div>"
      ],
      "text/plain": [
       "   year  team wins\n",
       "0  2008    RR   13\n",
       "0  2009    DD   10\n",
       "0  2010    MI   11\n",
       "0  2011   CSK   11\n",
       "0  2012   KKR   12\n",
       "0  2013    MI   13\n",
       "0  2014  KXIP   12\n",
       "0  2015   CSK   10\n",
       "0  2016   SRH   11\n",
       "0  2017    MI   12\n",
       "0  2018   CSK   11\n",
       "0  2019    MI   11"
      ]
     },
     "execution_count": 131,
     "metadata": {},
     "output_type": "execute_result"
    }
   ],
   "source": [
    "win_per_season_df"
   ]
  },
  {
   "cell_type": "markdown",
   "id": "ca45e05f",
   "metadata": {},
   "source": [
    "# 1. Most winning Team"
   ]
  },
  {
   "cell_type": "code",
   "execution_count": 132,
   "id": "6aabda4e",
   "metadata": {},
   "outputs": [
    {
     "name": "stderr",
     "output_type": "stream",
     "text": [
      "C:\\Users\\Admin\\anaconda3\\lib\\site-packages\\seaborn\\_decorators.py:36: FutureWarning: Pass the following variables as keyword args: x, y. From version 0.12, the only valid positional argument will be `data`, and passing other arguments without an explicit keyword will result in an error or misinterpretation.\n",
      "  warnings.warn(\n"
     ]
    },
    {
     "data": {
      "text/plain": [
       "<AxesSubplot:xlabel='year', ylabel='wins'>"
      ]
     },
     "execution_count": 132,
     "metadata": {},
     "output_type": "execute_result"
    },
    {
     "data": {
      "image/png": "[encoded data removed]",
      "text/plain": [
       "<Figure size 720x504 with 1 Axes>"
      ]
     },
     "metadata": {
      "needs_background": "light"
     },
     "output_type": "display_data"
    }
   ],
   "source": [
    "#The number of wins is a discrete value. Hence, we will plot a bar chart(barplot in Seaborn).\n",
    "\n",
    "fig, ax = plt.subplots(figsize=(10, 7))\n",
    "sns.barplot('year','wins', hue='team', data=win_per_season_df,ax=ax)"
   ]
  },
  {
   "cell_type": "code",
   "execution_count": null,
   "id": "a506bc01",
   "metadata": {},
   "outputs": [],
   "source": [
    "#Observations:\n",
    "#Mumbai Indians has secured the most wins in four seasons(2010, 2013, 2017, and 2019)."
   ]
  },
  {
   "cell_type": "markdown",
   "id": "63a7a4de",
   "metadata": {},
   "source": [
    "# 2. The venue that hosted the maximum number of matches"
   ]
  },
  {
   "cell_type": "code",
   "execution_count": 64,
   "id": "95507018",
   "metadata": {},
   "outputs": [],
   "source": [
    "venue_series=df_matches['venue'].value_counts()\n"
   ]
  },
  {
   "cell_type": "code",
   "execution_count": 65,
   "id": "737848bf",
   "metadata": {},
   "outputs": [],
   "source": [
    "venue_df = pd.DataFrame(columns=['venue', 'matches'])\n",
    "for items in venue_series.iteritems():\n",
    "    temp_df = pd.DataFrame({\n",
    "        'venue':[items[0]],\n",
    "        'matches':[items[1]]\n",
    "    })\n",
    "    venue_df = venue_df.append(temp_df, ignore_index=True)"
   ]
  },
  {
   "cell_type": "code",
   "execution_count": 74,
   "id": "6932c10b",
   "metadata": {},
   "outputs": [
    {
     "data": {
      "image/png": "[encoded data removed]",
      "text/plain": [
       "<Figure size 576x576 with 1 Axes>"
      ]
     },
     "metadata": {
      "needs_background": "light"
     },
     "output_type": "display_data"
    }
   ],
   "source": [
    "fig, ax = plt.subplots(figsize=(8, 8))\n",
    "sns.barplot(x='matches', y='venue', data=venue_df);"
   ]
  },
  {
   "cell_type": "code",
   "execution_count": null,
   "id": "1b6f7e30",
   "metadata": {},
   "outputs": [],
   "source": [
    "#Eden Gardens has hosted the maximum number of IPL matches followed by Wankhede Stadium and M Chinnaswamy Stadium.\n",
    "#Till 2019, IPL matches were hosted by 40 venues."
   ]
  },
  {
   "cell_type": "markdown",
   "id": "414cea7f",
   "metadata": {},
   "source": [
    "# 3. Toss Decisions across Seasons"
   ]
  },
  {
   "cell_type": "code",
   "execution_count": 79,
   "id": "a3c06b31",
   "metadata": {},
   "outputs": [
    {
     "data": {
      "image/png": "[encoded data removed]",
      "text/plain": [
       "<Figure size 720x432 with 1 Axes>"
      ]
     },
     "metadata": {
      "needs_background": "light"
     },
     "output_type": "display_data"
    }
   ],
   "source": [
    "plt.subplots(figsize=(10,6))\n",
    "sns.countplot(x='season',hue='toss_decision',data=df_matches)\n",
    "plt.show()"
   ]
  },
  {
   "cell_type": "code",
   "execution_count": null,
   "id": "1889ff67",
   "metadata": {},
   "outputs": [],
   "source": [
    "#The decision for batting or fielding varies largely across the seasons. \n",
    "#In some seasons, the probability that toss winners opt for batting is high, while it is not the case in other seasons.\n",
    "#In 2016 though, the majority of toss winners opted for batting."
   ]
  },
  {
   "cell_type": "markdown",
   "id": "305d2f32",
   "metadata": {},
   "source": [
    "# Maximum Toss Winners"
   ]
  },
  {
   "cell_type": "code",
   "execution_count": 153,
   "id": "e709c7f1",
   "metadata": {},
   "outputs": [
    {
     "data": {
      "text/plain": [
       "Mumbai Indians                 98\n",
       "Kolkata Knight Riders          92\n",
       "Chennai Super Kings            89\n",
       "Royal Challengers Bangalore    81\n",
       "Kings XI Punjab                81\n",
       "Rajasthan Royals               80\n",
       "Delhi Daredevils               80\n",
       "Sunrisers Hyderabad            46\n",
       "Deccan Chargers                43\n",
       "Pune Warriors                  20\n",
       "Gujarat Lions                  15\n",
       "Delhi Capitals                 10\n",
       "Kochi Tuskers Kerala            8\n",
       "Rising Pune Supergiants         7\n",
       "Rising Pune Supergiant          6\n",
       "Name: toss_winner, dtype: int64"
      ]
     },
     "execution_count": 153,
     "metadata": {},
     "output_type": "execute_result"
    }
   ],
   "source": [
    "win_team=df_matches['toss_winner'].value_counts()\n",
    "win_team\n",
    "\n"
   ]
  },
  {
   "cell_type": "code",
   "execution_count": 144,
   "id": "791d5b30",
   "metadata": {},
   "outputs": [
    {
     "data": {
      "image/png": "[encoded data removed]",
      "text/plain": [
       "<Figure size 720x432 with 1 Axes>"
      ]
     },
     "metadata": {
      "needs_background": "light"
     },
     "output_type": "display_data"
    }
   ],
   "source": [
    "plt.subplots(figsize=(10,6))\n",
    "ax=df_matches['toss_winner'].value_counts().plot.bar(width=0.9,color=sns.color_palette('RdYlGn',20))\n",
    "for p in ax.patches:\n",
    "    ax.annotate(format(p.get_height()), (p.get_x()+0.15, p.get_height()+1))\n",
    "plt.show()"
   ]
  },
  {
   "cell_type": "code",
   "execution_count": null,
   "id": "79899dde",
   "metadata": {},
   "outputs": [],
   "source": [
    "# Mumbai Indians seem to be very lucky having the higest win in tosses follwed by Kolkata Knight Riders. \n",
    "#Pune Supergiants have the lowest wins as they have played the lowest matches also.\n",
    "\n",
    "#This does not show the higher chances of winning the toss as the number of matches played by each team is uneven."
   ]
  },
  {
   "cell_type": "markdown",
   "id": "0c19aa8a",
   "metadata": {},
   "source": [
    "#  Is Toss Winner Also the Match Winner?"
   ]
  },
  {
   "cell_type": "code",
   "execution_count": 115,
   "id": "830666ff",
   "metadata": {},
   "outputs": [
    {
     "data": {
      "image/png": "[encoded data removed]",
      "text/plain": [
       "<Figure size 432x432 with 1 Axes>"
      ]
     },
     "metadata": {},
     "output_type": "display_data"
    }
   ],
   "source": [
    "df=df_matches[df_matches['toss_winner']==df_matches['winner']]\n",
    "slices=[len(df),(577-len(df))]\n",
    "labels=['yes','no']\n",
    "plt.pie(slices,labels=labels,startangle=90,shadow=True,explode=(0,0.05),autopct='%1.1f%%',colors=['r','g'])\n",
    "fig = plt.gcf()\n",
    "fig.set_size_inches(6,6)\n",
    "plt.show()"
   ]
  },
  {
   "cell_type": "code",
   "execution_count": null,
   "id": "fd2b3e31",
   "metadata": {},
   "outputs": [],
   "source": [
    "#Thus the toss winner is not necessarily the match winner. \n",
    "#The match winning probability for toss winnong team is about 50%-50%."
   ]
  },
  {
   "cell_type": "markdown",
   "id": "c701452e",
   "metadata": {},
   "source": [
    "# The most successful IPL team"
   ]
  },
  {
   "cell_type": "code",
   "execution_count": 116,
   "id": "8017621f",
   "metadata": {},
   "outputs": [
    {
     "data": {
      "text/html": [
       "<div>\n",
       "<style scoped>\n",
       "    .dataframe tbody tr th:only-of-type {\n",
       "        vertical-align: middle;\n",
       "    }\n",
       "\n",
       "    .dataframe tbody tr th {\n",
       "        vertical-align: top;\n",
       "    }\n",
       "\n",
       "    .dataframe thead th {\n",
       "        text-align: right;\n",
       "    }\n",
       "</style>\n",
       "<table border=\"1\" class=\"dataframe\">\n",
       "  <thead>\n",
       "    <tr style=\"text-align: right;\">\n",
       "      <th></th>\n",
       "      <th>team</th>\n",
       "      <th>wins</th>\n",
       "    </tr>\n",
       "  </thead>\n",
       "  <tbody>\n",
       "    <tr>\n",
       "      <th>0</th>\n",
       "      <td>Mumbai Indians</td>\n",
       "      <td>109</td>\n",
       "    </tr>\n",
       "    <tr>\n",
       "      <th>1</th>\n",
       "      <td>Chennai Super Kings</td>\n",
       "      <td>100</td>\n",
       "    </tr>\n",
       "    <tr>\n",
       "      <th>2</th>\n",
       "      <td>Kolkata Knight Riders</td>\n",
       "      <td>92</td>\n",
       "    </tr>\n",
       "    <tr>\n",
       "      <th>3</th>\n",
       "      <td>Royal Challengers Bangalore</td>\n",
       "      <td>84</td>\n",
       "    </tr>\n",
       "    <tr>\n",
       "      <th>4</th>\n",
       "      <td>Kings XI Punjab</td>\n",
       "      <td>82</td>\n",
       "    </tr>\n",
       "    <tr>\n",
       "      <th>5</th>\n",
       "      <td>Rajasthan Royals</td>\n",
       "      <td>75</td>\n",
       "    </tr>\n",
       "    <tr>\n",
       "      <th>6</th>\n",
       "      <td>Delhi Daredevils</td>\n",
       "      <td>67</td>\n",
       "    </tr>\n",
       "    <tr>\n",
       "      <th>7</th>\n",
       "      <td>Sunrisers Hyderabad</td>\n",
       "      <td>58</td>\n",
       "    </tr>\n",
       "    <tr>\n",
       "      <th>8</th>\n",
       "      <td>Deccan Chargers</td>\n",
       "      <td>29</td>\n",
       "    </tr>\n",
       "    <tr>\n",
       "      <th>9</th>\n",
       "      <td>Gujarat Lions</td>\n",
       "      <td>13</td>\n",
       "    </tr>\n",
       "    <tr>\n",
       "      <th>10</th>\n",
       "      <td>Pune Warriors</td>\n",
       "      <td>12</td>\n",
       "    </tr>\n",
       "    <tr>\n",
       "      <th>11</th>\n",
       "      <td>Rising Pune Supergiant</td>\n",
       "      <td>10</td>\n",
       "    </tr>\n",
       "    <tr>\n",
       "      <th>12</th>\n",
       "      <td>Delhi Capitals</td>\n",
       "      <td>10</td>\n",
       "    </tr>\n",
       "    <tr>\n",
       "      <th>13</th>\n",
       "      <td>Kochi Tuskers Kerala</td>\n",
       "      <td>6</td>\n",
       "    </tr>\n",
       "    <tr>\n",
       "      <th>14</th>\n",
       "      <td>Rising Pune Supergiants</td>\n",
       "      <td>5</td>\n",
       "    </tr>\n",
       "  </tbody>\n",
       "</table>\n",
       "</div>"
      ],
      "text/plain": [
       "                           team wins\n",
       "0                Mumbai Indians  109\n",
       "1           Chennai Super Kings  100\n",
       "2         Kolkata Knight Riders   92\n",
       "3   Royal Challengers Bangalore   84\n",
       "4               Kings XI Punjab   82\n",
       "5              Rajasthan Royals   75\n",
       "6              Delhi Daredevils   67\n",
       "7           Sunrisers Hyderabad   58\n",
       "8               Deccan Chargers   29\n",
       "9                 Gujarat Lions   13\n",
       "10                Pune Warriors   12\n",
       "11       Rising Pune Supergiant   10\n",
       "12               Delhi Capitals   10\n",
       "13         Kochi Tuskers Kerala    6\n",
       "14      Rising Pune Supergiants    5"
      ]
     },
     "execution_count": 116,
     "metadata": {},
     "output_type": "execute_result"
    }
   ],
   "source": [
    "team_wins =df_matches['winner'].value_counts()\n",
    "\n",
    "team_wins_df = pd.DataFrame(columns=[\"team\", \"wins\"])\n",
    "for items in team_wins.iteritems():\n",
    "    temp_df1 = pd.DataFrame({\n",
    "        'team':[items[0]],\n",
    "        'wins':[items[1]]\n",
    "    })\n",
    "    team_wins_df = team_wins_df.append(temp_df1, ignore_index=True)\n",
    "team_wins_df"
   ]
  },
  {
   "cell_type": "code",
   "execution_count": 155,
   "id": "e3b181cb",
   "metadata": {},
   "outputs": [
    {
     "data": {
      "image/png": "[encoded data removed]",
      "text/plain": [
       "<Figure size 720x432 with 1 Axes>"
      ]
     },
     "metadata": {
      "needs_background": "light"
     },
     "output_type": "display_data"
    }
   ],
   "source": [
    "#plt.subplots(figsize=(20,6))\n",
    "\n",
    "#sns.barplot(team_wins_df['wins'],team_wins_df['team'])\n",
    "\n",
    "plt.subplots(figsize=(10,6))\n",
    "ax=df_matches['winner'].value_counts().plot.bar(width=0.9,color=sns.color_palette('RdYlGn',20))\n",
    "for p in ax.patches:\n",
    "    ax.annotate(format(p.get_height()), (p.get_x()+0.15, p.get_height()+1))\n",
    "plt.show()"
   ]
  },
  {
   "cell_type": "code",
   "execution_count": null,
   "id": "c73ad7f7",
   "metadata": {},
   "outputs": [],
   "source": [
    "#Observations:\n",
    "#Mumbai Indians is the most successful team(as they have won the maximum number of IPL matches -109) \n",
    "#followed by Chennai Super Kings and Kolkata Knight Riders."
   ]
  },
  {
   "cell_type": "markdown",
   "id": "4ab5a00c",
   "metadata": {},
   "source": [
    "# Matches played across each season"
   ]
  },
  {
   "cell_type": "code",
   "execution_count": 157,
   "id": "0e983a58",
   "metadata": {},
   "outputs": [
    {
     "data": {
      "image/png": "[encoded data removed]",
      "text/plain": [
       "<Figure size 720x432 with 1 Axes>"
      ]
     },
     "metadata": {
      "needs_background": "light"
     },
     "output_type": "display_data"
    }
   ],
   "source": [
    "plt.subplots(figsize=(10,6))\n",
    "sns.countplot(x='season',data=df_matches)  #countplot automatically counts the frequency of an item\n",
    "plt.show()"
   ]
  },
  {
   "cell_type": "code",
   "execution_count": null,
   "id": "45457c16",
   "metadata": {},
   "outputs": [],
   "source": [
    "#As we can see in the graph there is maximum number of matches played the year 2013"
   ]
  },
  {
   "cell_type": "markdown",
   "id": "ed3b405d",
   "metadata": {},
   "source": [
    "# Runs Across the Seasons"
   ]
  },
  {
   "cell_type": "code",
   "execution_count": 4,
   "id": "04440144",
   "metadata": {},
   "outputs": [
    {
     "data": {
      "text/html": [
       "<div>\n",
       "<style scoped>\n",
       "    .dataframe tbody tr th:only-of-type {\n",
       "        vertical-align: middle;\n",
       "    }\n",
       "\n",
       "    .dataframe tbody tr th {\n",
       "        vertical-align: top;\n",
       "    }\n",
       "\n",
       "    .dataframe thead th {\n",
       "        text-align: right;\n",
       "    }\n",
       "</style>\n",
       "<table border=\"1\" class=\"dataframe\">\n",
       "  <thead>\n",
       "    <tr style=\"text-align: right;\">\n",
       "      <th></th>\n",
       "      <th>season</th>\n",
       "      <th>total_runs</th>\n",
       "    </tr>\n",
       "  </thead>\n",
       "  <tbody>\n",
       "    <tr>\n",
       "      <th>0</th>\n",
       "      <td>2008</td>\n",
       "      <td>17937</td>\n",
       "    </tr>\n",
       "    <tr>\n",
       "      <th>1</th>\n",
       "      <td>2009</td>\n",
       "      <td>16353</td>\n",
       "    </tr>\n",
       "    <tr>\n",
       "      <th>2</th>\n",
       "      <td>2010</td>\n",
       "      <td>18883</td>\n",
       "    </tr>\n",
       "    <tr>\n",
       "      <th>3</th>\n",
       "      <td>2011</td>\n",
       "      <td>21154</td>\n",
       "    </tr>\n",
       "    <tr>\n",
       "      <th>4</th>\n",
       "      <td>2012</td>\n",
       "      <td>22453</td>\n",
       "    </tr>\n",
       "    <tr>\n",
       "      <th>5</th>\n",
       "      <td>2013</td>\n",
       "      <td>22602</td>\n",
       "    </tr>\n",
       "    <tr>\n",
       "      <th>6</th>\n",
       "      <td>2014</td>\n",
       "      <td>18931</td>\n",
       "    </tr>\n",
       "    <tr>\n",
       "      <th>7</th>\n",
       "      <td>2015</td>\n",
       "      <td>18353</td>\n",
       "    </tr>\n",
       "    <tr>\n",
       "      <th>8</th>\n",
       "      <td>2016</td>\n",
       "      <td>18862</td>\n",
       "    </tr>\n",
       "    <tr>\n",
       "      <th>9</th>\n",
       "      <td>2017</td>\n",
       "      <td>18786</td>\n",
       "    </tr>\n",
       "    <tr>\n",
       "      <th>10</th>\n",
       "      <td>2018</td>\n",
       "      <td>20706</td>\n",
       "    </tr>\n",
       "    <tr>\n",
       "      <th>11</th>\n",
       "      <td>2019</td>\n",
       "      <td>20270</td>\n",
       "    </tr>\n",
       "  </tbody>\n",
       "</table>\n",
       "</div>"
      ],
      "text/plain": [
       "    season  total_runs\n",
       "0     2008       17937\n",
       "1     2009       16353\n",
       "2     2010       18883\n",
       "3     2011       21154\n",
       "4     2012       22453\n",
       "5     2013       22602\n",
       "6     2014       18931\n",
       "7     2015       18353\n",
       "8     2016       18862\n",
       "9     2017       18786\n",
       "10    2018       20706\n",
       "11    2019       20270"
      ]
     },
     "execution_count": 4,
     "metadata": {},
     "output_type": "execute_result"
    }
   ],
   "source": [
    "#merging the matches and delivery dataframe by referencing the id and match_id columns respectively\n",
    "Batting_Data = df_matches[['id','season']].merge(delivery, left_on = 'id', right_on = 'match_id', how = 'left').drop('id', axis = 1)\n",
    "season=Batting_Data.groupby(['season'])['total_runs'].sum().reset_index()\n",
    "season"
   ]
  },
  {
   "cell_type": "code",
   "execution_count": 10,
   "id": "8ed484ce",
   "metadata": {},
   "outputs": [
    {
     "data": {
      "image/png": "[encoded data removed]",
      "text/plain": [
       "<Figure size 720x432 with 1 Axes>"
      ]
     },
     "metadata": {
      "needs_background": "light"
     },
     "output_type": "display_data"
    }
   ],
   "source": [
    "season.set_index('season').plot(marker='o')\n",
    "plt.gcf().set_size_inches(10,6)\n",
    "plt.title('Total Runs Across the Seasons')\n",
    "plt.show()"
   ]
  },
  {
   "cell_type": "code",
   "execution_count": null,
   "id": "b87bf525",
   "metadata": {},
   "outputs": [],
   "source": [
    "#There was a decline in total runs from 2008 to 2009. But there after there was a substantial increase in runs in every season until 2013,\n",
    "#but from next season there was a slump in the total runs\n",
    "#But the number of matches are not equal in all seasons."
   ]
  },
  {
   "cell_type": "markdown",
   "id": "321a0550",
   "metadata": {},
   "source": [
    "#  We should check the average runs per match in each season:"
   ]
  },
  {
   "cell_type": "code",
   "execution_count": 19,
   "id": "1b86ba79",
   "metadata": {},
   "outputs": [
    {
     "data": {
      "text/html": [
       "<div>\n",
       "<style scoped>\n",
       "    .dataframe tbody tr th:only-of-type {\n",
       "        vertical-align: middle;\n",
       "    }\n",
       "\n",
       "    .dataframe tbody tr th {\n",
       "        vertical-align: top;\n",
       "    }\n",
       "\n",
       "    .dataframe thead th {\n",
       "        text-align: right;\n",
       "    }\n",
       "</style>\n",
       "<table border=\"1\" class=\"dataframe\">\n",
       "  <thead>\n",
       "    <tr style=\"text-align: right;\">\n",
       "      <th></th>\n",
       "      <th>season</th>\n",
       "      <th>matches</th>\n",
       "      <th>total_runs</th>\n",
       "    </tr>\n",
       "  </thead>\n",
       "  <tbody>\n",
       "    <tr>\n",
       "      <th>0</th>\n",
       "      <td>2008</td>\n",
       "      <td>58</td>\n",
       "      <td>17937</td>\n",
       "    </tr>\n",
       "    <tr>\n",
       "      <th>1</th>\n",
       "      <td>2009</td>\n",
       "      <td>57</td>\n",
       "      <td>16353</td>\n",
       "    </tr>\n",
       "    <tr>\n",
       "      <th>2</th>\n",
       "      <td>2010</td>\n",
       "      <td>60</td>\n",
       "      <td>18883</td>\n",
       "    </tr>\n",
       "    <tr>\n",
       "      <th>3</th>\n",
       "      <td>2011</td>\n",
       "      <td>73</td>\n",
       "      <td>21154</td>\n",
       "    </tr>\n",
       "    <tr>\n",
       "      <th>4</th>\n",
       "      <td>2012</td>\n",
       "      <td>74</td>\n",
       "      <td>22453</td>\n",
       "    </tr>\n",
       "    <tr>\n",
       "      <th>5</th>\n",
       "      <td>2013</td>\n",
       "      <td>76</td>\n",
       "      <td>22602</td>\n",
       "    </tr>\n",
       "    <tr>\n",
       "      <th>6</th>\n",
       "      <td>2014</td>\n",
       "      <td>60</td>\n",
       "      <td>18931</td>\n",
       "    </tr>\n",
       "    <tr>\n",
       "      <th>7</th>\n",
       "      <td>2015</td>\n",
       "      <td>59</td>\n",
       "      <td>18353</td>\n",
       "    </tr>\n",
       "    <tr>\n",
       "      <th>8</th>\n",
       "      <td>2016</td>\n",
       "      <td>60</td>\n",
       "      <td>18862</td>\n",
       "    </tr>\n",
       "    <tr>\n",
       "      <th>9</th>\n",
       "      <td>2017</td>\n",
       "      <td>59</td>\n",
       "      <td>18786</td>\n",
       "    </tr>\n",
       "    <tr>\n",
       "      <th>10</th>\n",
       "      <td>2018</td>\n",
       "      <td>60</td>\n",
       "      <td>20706</td>\n",
       "    </tr>\n",
       "    <tr>\n",
       "      <th>11</th>\n",
       "      <td>2019</td>\n",
       "      <td>60</td>\n",
       "      <td>20270</td>\n",
       "    </tr>\n",
       "  </tbody>\n",
       "</table>\n",
       "</div>"
      ],
      "text/plain": [
       "    season  matches  total_runs\n",
       "0     2008       58       17937\n",
       "1     2009       57       16353\n",
       "2     2010       60       18883\n",
       "3     2011       73       21154\n",
       "4     2012       74       22453\n",
       "5     2013       76       22602\n",
       "6     2014       60       18931\n",
       "7     2015       59       18353\n",
       "8     2016       60       18862\n",
       "9     2017       59       18786\n",
       "10    2018       60       20706\n",
       "11    2019       60       20270"
      ]
     },
     "execution_count": 19,
     "metadata": {},
     "output_type": "execute_result"
    }
   ],
   "source": [
    "avgruns_each_season=df_matches.groupby(['season']).count().id.reset_index()\n",
    "avgruns_each_season.rename(columns={'id':'matches'},inplace=1)\n",
    "avgruns_each_season['total_runs']=season['total_runs']\n",
    "avgruns_each_season"
   ]
  },
  {
   "cell_type": "code",
   "execution_count": 20,
   "id": "9fcb0d1c",
   "metadata": {},
   "outputs": [
    {
     "data": {
      "image/png": "[encoded data removed]",
      "text/plain": [
       "<Figure size 432x288 with 1 Axes>"
      ]
     },
     "metadata": {
      "needs_background": "light"
     },
     "output_type": "display_data"
    }
   ],
   "source": [
    "avgruns_each_season['average_runs_per_match']=avgruns_each_season['total_runs']/avgruns_each_season['matches']\n",
    "avgruns_each_season.set_index('season')['average_runs_per_match'].plot(marker='o')\n",
    "plt.title('Average Runs per match across Seasons')\n",
    "plt.show()"
   ]
  },
  {
   "cell_type": "markdown",
   "id": "fcc20ea9",
   "metadata": {},
   "source": [
    "# Sixes and Fours Across the Season"
   ]
  },
  {
   "cell_type": "code",
   "execution_count": 23,
   "id": "82d6f16d",
   "metadata": {},
   "outputs": [
    {
     "data": {
      "image/png": "[encoded data removed]",
      "text/plain": [
       "<Figure size 720x432 with 1 Axes>"
      ]
     },
     "metadata": {
      "needs_background": "light"
     },
     "output_type": "display_data"
    }
   ],
   "source": [
    "Season_boundaries=Batting_Data.groupby(\"season\")[\"batsman_runs\"].agg(lambda x: (x==6).sum()).reset_index()\n",
    "a=batsmen.groupby(\"season\")[\"batsman_runs\"].agg(lambda x: (x==4).sum()).reset_index()\n",
    "Season_boundaries=Season_boundaries.merge(a,left_on='season',right_on='season',how='left')\n",
    "Season_boundaries=Season_boundaries.rename(columns={'batsman_runs_x':'6\"s','batsman_runs_y':'4\"s'})\n",
    "Season_boundaries.set_index('season')[['6\"s','4\"s']].plot(marker='o')\n",
    "fig=plt.gcf()\n",
    "fig.set_size_inches(10,6)\n",
    "plt.show()"
   ]
  },
  {
   "cell_type": "markdown",
   "id": "b3ba5687",
   "metadata": {},
   "source": [
    "\n",
    "# Maximum Man Of Matches"
   ]
  },
  {
   "cell_type": "code",
   "execution_count": 30,
   "id": "dcedc9d2",
   "metadata": {},
   "outputs": [
    {
     "data": {
      "image/png": "[encoded data removed]",
      "text/plain": [
       "<Figure size 720x432 with 1 Axes>"
      ]
     },
     "metadata": {
      "needs_background": "light"
     },
     "output_type": "display_data"
    }
   ],
   "source": [
    "plt.subplots(figsize=(10,6))\n",
    "\n",
    "ax = df_matches['player_of_match'].value_counts().head(10).plot.bar(width=.8)  #counts the values corresponding \n",
    "# to each batsman and then filters out the top 10 batsman and then plots a bargraph \n",
    "ax.set_xlabel('player_of_match') \n",
    "ax.set_ylabel('count')\n",
    "for p in ax.patches:\n",
    "    ax.annotate(format(p.get_height()), (p.get_x()+0.15, p.get_height()+0.25))\n",
    "plt.show()"
   ]
  },
  {
   "cell_type": "markdown",
   "id": "da95232e",
   "metadata": {},
   "source": [
    "# Top 10 Batsman"
   ]
  },
  {
   "cell_type": "code",
   "execution_count": 31,
   "id": "bdc28f03",
   "metadata": {},
   "outputs": [
    {
     "data": {
      "image/png": "[encoded data removed]",
      "text/plain": [
       "<Figure size 720x432 with 1 Axes>"
      ]
     },
     "metadata": {
      "needs_background": "light"
     },
     "output_type": "display_data"
    }
   ],
   "source": [
    "plt.subplots(figsize=(10,6))\n",
    "max_runs=delivery.groupby(['batsman'])['batsman_runs'].sum()\n",
    "ax=max_runs.sort_values(ascending=False)[:10].plot.bar(width=0.8,color=sns.color_palette('winter_r',20))\n",
    "for p in ax.patches:\n",
    "    ax.annotate(format(p.get_height()), (p.get_x()+0.1, p.get_height()+50),fontsize=15)\n",
    "plt.show()"
   ]
  },
  {
   "cell_type": "markdown",
   "id": "557395d5",
   "metadata": {},
   "source": [
    "# Top Batsman’s with 1’s, 2’s, 3’s, 4’s"
   ]
  },
  {
   "cell_type": "code",
   "execution_count": 32,
   "id": "95f8c16a",
   "metadata": {},
   "outputs": [
    {
     "data": {
      "image/png": "[encoded data removed]",
      "text/plain": [
       "<Figure size 1296x864 with 4 Axes>"
      ]
     },
     "metadata": {
      "needs_background": "light"
     },
     "output_type": "display_data"
    }
   ],
   "source": [
    "toppers=delivery.groupby(['batsman','batsman_runs'])['total_runs'].count().reset_index()\n",
    "toppers=toppers.pivot('batsman','batsman_runs','total_runs')\n",
    "fig,ax=plt.subplots(2,2,figsize=(18,12))\n",
    "toppers[1].sort_values(ascending=False)[:5].plot(kind='barh',ax=ax[0,0],color='#45ff45',width=0.8)\n",
    "ax[0,0].set_title(\"Most 1's\")\n",
    "ax[0,0].set_ylabel('')\n",
    "toppers[2].sort_values(ascending=False)[:5].plot(kind='barh',ax=ax[0,1],color='#df6dfd',width=0.8)\n",
    "ax[0,1].set_title(\"Most 2's\")\n",
    "ax[0,1].set_ylabel('')\n",
    "toppers[4].sort_values(ascending=False)[:5].plot(kind='barh',ax=ax[1,0],color='#fbca5f',width=0.8)\n",
    "ax[1,0].set_title(\"Most 4's\")\n",
    "ax[1,0].set_ylabel('')\n",
    "toppers[6].sort_values(ascending=False)[:5].plot(kind='barh',ax=ax[1,1],color='#ffff00',width=0.8)\n",
    "ax[1,1].set_title(\"Most 6's\")\n",
    "ax[1,1].set_ylabel('')\n",
    "plt.show()"
   ]
  },
  {
   "cell_type": "code",
   "execution_count": null,
   "id": "d2d4737f",
   "metadata": {},
   "outputs": [],
   "source": [
    "#Observations:\n",
    "\n",
    "#Kohli has scored the maximum 1’s\n",
    "#Dhoni has the maximum 2’s . Those Strong Legs :p\n",
    "#Gambhir has the maximum 4’s.\n",
    "#C Gayle has the maximum 6’s and he leads by a big margin."
   ]
  },
  {
   "cell_type": "markdown",
   "id": "17284cbc",
   "metadata": {},
   "source": [
    "# Top Individual Scores"
   ]
  },
  {
   "cell_type": "code",
   "execution_count": 33,
   "id": "72468db7",
   "metadata": {},
   "outputs": [
    {
     "data": {
      "text/html": [
       "<div>\n",
       "<style scoped>\n",
       "    .dataframe tbody tr th:only-of-type {\n",
       "        vertical-align: middle;\n",
       "    }\n",
       "\n",
       "    .dataframe tbody tr th {\n",
       "        vertical-align: top;\n",
       "    }\n",
       "\n",
       "    .dataframe thead th {\n",
       "        text-align: right;\n",
       "    }\n",
       "</style>\n",
       "<table border=\"1\" class=\"dataframe\">\n",
       "  <thead>\n",
       "    <tr style=\"text-align: right;\">\n",
       "      <th></th>\n",
       "      <th>match_id</th>\n",
       "      <th>batsman</th>\n",
       "      <th>batting_team</th>\n",
       "      <th>batsman_runs</th>\n",
       "    </tr>\n",
       "  </thead>\n",
       "  <tbody>\n",
       "    <tr>\n",
       "      <th>6200</th>\n",
       "      <td>411</td>\n",
       "      <td>CH Gayle</td>\n",
       "      <td>Royal Challengers Bangalore</td>\n",
       "      <td>175</td>\n",
       "    </tr>\n",
       "    <tr>\n",
       "      <th>900</th>\n",
       "      <td>60</td>\n",
       "      <td>BB McCullum</td>\n",
       "      <td>Kolkata Knight Riders</td>\n",
       "      <td>158</td>\n",
       "    </tr>\n",
       "    <tr>\n",
       "      <th>8426</th>\n",
       "      <td>562</td>\n",
       "      <td>AB de Villiers</td>\n",
       "      <td>Royal Challengers Bangalore</td>\n",
       "      <td>133</td>\n",
       "    </tr>\n",
       "    <tr>\n",
       "      <th>10149</th>\n",
       "      <td>7935</td>\n",
       "      <td>RR Pant</td>\n",
       "      <td>Delhi Daredevils</td>\n",
       "      <td>130</td>\n",
       "    </tr>\n",
       "    <tr>\n",
       "      <th>9257</th>\n",
       "      <td>620</td>\n",
       "      <td>AB de Villiers</td>\n",
       "      <td>Royal Challengers Bangalore</td>\n",
       "      <td>129</td>\n",
       "    </tr>\n",
       "    <tr>\n",
       "      <th>5585</th>\n",
       "      <td>372</td>\n",
       "      <td>CH Gayle</td>\n",
       "      <td>Royal Challengers Bangalore</td>\n",
       "      <td>128</td>\n",
       "    </tr>\n",
       "    <tr>\n",
       "      <th>3135</th>\n",
       "      <td>206</td>\n",
       "      <td>M Vijay</td>\n",
       "      <td>Chennai Super Kings</td>\n",
       "      <td>127</td>\n",
       "    </tr>\n",
       "    <tr>\n",
       "      <th>529</th>\n",
       "      <td>36</td>\n",
       "      <td>DA Warner</td>\n",
       "      <td>Sunrisers Hyderabad</td>\n",
       "      <td>126</td>\n",
       "    </tr>\n",
       "    <tr>\n",
       "      <th>7752</th>\n",
       "      <td>516</td>\n",
       "      <td>V Sehwag</td>\n",
       "      <td>Kings XI Punjab</td>\n",
       "      <td>122</td>\n",
       "    </tr>\n",
       "    <tr>\n",
       "      <th>10417</th>\n",
       "      <td>7953</td>\n",
       "      <td>SR Watson</td>\n",
       "      <td>Chennai Super Kings</td>\n",
       "      <td>121</td>\n",
       "    </tr>\n",
       "  </tbody>\n",
       "</table>\n",
       "</div>"
      ],
      "text/plain": [
       "       match_id         batsman                 batting_team  batsman_runs\n",
       "6200        411        CH Gayle  Royal Challengers Bangalore           175\n",
       "900          60     BB McCullum        Kolkata Knight Riders           158\n",
       "8426        562  AB de Villiers  Royal Challengers Bangalore           133\n",
       "10149      7935         RR Pant             Delhi Daredevils           130\n",
       "9257        620  AB de Villiers  Royal Challengers Bangalore           129\n",
       "5585        372        CH Gayle  Royal Challengers Bangalore           128\n",
       "3135        206         M Vijay          Chennai Super Kings           127\n",
       "529          36       DA Warner          Sunrisers Hyderabad           126\n",
       "7752        516        V Sehwag              Kings XI Punjab           122\n",
       "10417      7953       SR Watson          Chennai Super Kings           121"
      ]
     },
     "execution_count": 33,
     "metadata": {},
     "output_type": "execute_result"
    }
   ],
   "source": [
    "top_scores = delivery.groupby([\"match_id\", \"batsman\",\"batting_team\"])[\"batsman_runs\"].sum().reset_index()\n",
    "#top_scores=top_scores[top_scores['batsman_runs']>100]\n",
    "top_scores.sort_values('batsman_runs', ascending=0).head(10)\n",
    "top_scores.nlargest(10,'batsman_runs')"
   ]
  },
  {
   "cell_type": "markdown",
   "id": "e184ada8",
   "metadata": {},
   "source": [
    "#  Individual Scores By Top Batsman each Inning"
   ]
  },
  {
   "cell_type": "code",
   "execution_count": 35,
   "id": "e7accfdc",
   "metadata": {},
   "outputs": [
    {
     "name": "stderr",
     "output_type": "stream",
     "text": [
      "C:\\Users\\Admin\\anaconda3\\lib\\site-packages\\seaborn\\categorical.py:1296: UserWarning: 19.4% of the points cannot be placed; you may want to decrease the size of the markers or use stripplot.\n",
      "  warnings.warn(msg, UserWarning)\n",
      "C:\\Users\\Admin\\anaconda3\\lib\\site-packages\\seaborn\\categorical.py:1296: UserWarning: 22.2% of the points cannot be placed; you may want to decrease the size of the markers or use stripplot.\n",
      "  warnings.warn(msg, UserWarning)\n",
      "C:\\Users\\Admin\\anaconda3\\lib\\site-packages\\seaborn\\categorical.py:1296: UserWarning: 47.6% of the points cannot be placed; you may want to decrease the size of the markers or use stripplot.\n",
      "  warnings.warn(msg, UserWarning)\n",
      "C:\\Users\\Admin\\anaconda3\\lib\\site-packages\\seaborn\\categorical.py:1296: UserWarning: 34.4% of the points cannot be placed; you may want to decrease the size of the markers or use stripplot.\n",
      "  warnings.warn(msg, UserWarning)\n",
      "C:\\Users\\Admin\\anaconda3\\lib\\site-packages\\seaborn\\categorical.py:1296: UserWarning: 45.0% of the points cannot be placed; you may want to decrease the size of the markers or use stripplot.\n",
      "  warnings.warn(msg, UserWarning)\n",
      "C:\\Users\\Admin\\anaconda3\\lib\\site-packages\\seaborn\\categorical.py:1296: UserWarning: 47.7% of the points cannot be placed; you may want to decrease the size of the markers or use stripplot.\n",
      "  warnings.warn(msg, UserWarning)\n",
      "C:\\Users\\Admin\\anaconda3\\lib\\site-packages\\seaborn\\categorical.py:1296: UserWarning: 33.8% of the points cannot be placed; you may want to decrease the size of the markers or use stripplot.\n",
      "  warnings.warn(msg, UserWarning)\n",
      "C:\\Users\\Admin\\anaconda3\\lib\\site-packages\\seaborn\\categorical.py:1296: UserWarning: 36.7% of the points cannot be placed; you may want to decrease the size of the markers or use stripplot.\n",
      "  warnings.warn(msg, UserWarning)\n"
     ]
    },
    {
     "data": {
      "image/png": "[encoded data removed]",
      "text/plain": [
       "<Figure size 1008x576 with 1 Axes>"
      ]
     },
     "metadata": {
      "needs_background": "light"
     },
     "output_type": "display_data"
    }
   ],
   "source": [
    "\n",
    "swarm=['CH Gayle','V Kohli','G Gambhir','SK Raina','YK Pathan','MS Dhoni','AB de Villiers','DA Warner']\n",
    "scores = delivery.groupby([\"match_id\", \"batsman\",\"batting_team\"])[\"batsman_runs\"].sum().reset_index()\n",
    "scores=scores[top_scores['batsman'].isin(swarm)]\n",
    "sns.swarmplot(x='batsman',y='batsman_runs',data=scores,hue='batting_team',palette='Set1')\n",
    "fig=plt.gcf()\n",
    "fig.set_size_inches(14,8)\n",
    "plt.ylim(-10,200)\n",
    "plt.show()"
   ]
  },
  {
   "cell_type": "markdown",
   "id": "77640230",
   "metadata": {},
   "source": [
    "# Runs Scored By Batsman Across Seasons"
   ]
  },
  {
   "cell_type": "code",
   "execution_count": 36,
   "id": "c853bd3c",
   "metadata": {},
   "outputs": [
    {
     "data": {
      "image/png": "[encoded data removed]",
      "text/plain": [
       "<Figure size 1152x432 with 1 Axes>"
      ]
     },
     "metadata": {
      "needs_background": "light"
     },
     "output_type": "display_data"
    }
   ],
   "source": [
    "a=batsmen.groupby(['season','batsman'])['batsman_runs'].sum().reset_index()\n",
    "a=a.groupby(['season','batsman'])['batsman_runs'].sum().unstack().T\n",
    "a['Total']=a.sum(axis=1)\n",
    "a=a.sort_values(by='Total',ascending=0)[:5]\n",
    "a.drop('Total',axis=1,inplace=True)\n",
    "a.T.plot(color=['red','blue','#772272','green','#f0ff00'],marker='o')\n",
    "fig=plt.gcf()\n",
    "fig.set_size_inches(16,6)\n",
    "plt.show()"
   ]
  },
  {
   "cell_type": "code",
   "execution_count": null,
   "id": "86c997ab",
   "metadata": {},
   "outputs": [],
   "source": [
    "#David Warner’s form looks to be improving season by season.\n",
    "#There has been a sharp decline in Kohli’s Runs in the last season."
   ]
  },
  {
   "cell_type": "markdown",
   "id": "2e5eeb0d",
   "metadata": {},
   "source": [
    "# Which umpire has officiated the most number of IPL matches on-field?"
   ]
  },
  {
   "cell_type": "code",
   "execution_count": 38,
   "id": "b20283d2",
   "metadata": {},
   "outputs": [
    {
     "data": {
      "text/html": [
       "<div>\n",
       "<style scoped>\n",
       "    .dataframe tbody tr th:only-of-type {\n",
       "        vertical-align: middle;\n",
       "    }\n",
       "\n",
       "    .dataframe tbody tr th {\n",
       "        vertical-align: top;\n",
       "    }\n",
       "\n",
       "    .dataframe thead th {\n",
       "        text-align: right;\n",
       "    }\n",
       "</style>\n",
       "<table border=\"1\" class=\"dataframe\">\n",
       "  <thead>\n",
       "    <tr style=\"text-align: right;\">\n",
       "      <th></th>\n",
       "      <th>umpire1</th>\n",
       "      <th>umpire2</th>\n",
       "    </tr>\n",
       "  </thead>\n",
       "  <tbody>\n",
       "    <tr>\n",
       "      <th>HDPK Dharmasena</th>\n",
       "      <td>73.0</td>\n",
       "      <td>14.0</td>\n",
       "    </tr>\n",
       "    <tr>\n",
       "      <th>Asad Rauf</th>\n",
       "      <td>51.0</td>\n",
       "      <td>NaN</td>\n",
       "    </tr>\n",
       "    <tr>\n",
       "      <th>S Ravi</th>\n",
       "      <td>49.0</td>\n",
       "      <td>57.0</td>\n",
       "    </tr>\n",
       "    <tr>\n",
       "      <th>AK Chaudhary</th>\n",
       "      <td>43.0</td>\n",
       "      <td>15.0</td>\n",
       "    </tr>\n",
       "    <tr>\n",
       "      <th>Aleem Dar</th>\n",
       "      <td>38.0</td>\n",
       "      <td>NaN</td>\n",
       "    </tr>\n",
       "    <tr>\n",
       "      <th>...</th>\n",
       "      <td>...</td>\n",
       "      <td>...</td>\n",
       "    </tr>\n",
       "    <tr>\n",
       "      <th>K Srinivasan</th>\n",
       "      <td>NaN</td>\n",
       "      <td>3.0</td>\n",
       "    </tr>\n",
       "    <tr>\n",
       "      <th>KN Anantapadmanabhan</th>\n",
       "      <td>NaN</td>\n",
       "      <td>3.0</td>\n",
       "    </tr>\n",
       "    <tr>\n",
       "      <th>SD Ranade</th>\n",
       "      <td>NaN</td>\n",
       "      <td>2.0</td>\n",
       "    </tr>\n",
       "    <tr>\n",
       "      <th>Subroto Das</th>\n",
       "      <td>NaN</td>\n",
       "      <td>1.0</td>\n",
       "    </tr>\n",
       "    <tr>\n",
       "      <th>Nand Kishore</th>\n",
       "      <td>NaN</td>\n",
       "      <td>1.0</td>\n",
       "    </tr>\n",
       "  </tbody>\n",
       "</table>\n",
       "<p>75 rows × 2 columns</p>\n",
       "</div>"
      ],
      "text/plain": [
       "                      umpire1  umpire2\n",
       "HDPK Dharmasena          73.0     14.0\n",
       "Asad Rauf                51.0      NaN\n",
       "S Ravi                   49.0     57.0\n",
       "AK Chaudhary             43.0     15.0\n",
       "Aleem Dar                38.0      NaN\n",
       "...                       ...      ...\n",
       "K Srinivasan              NaN      3.0\n",
       "KN Anantapadmanabhan      NaN      3.0\n",
       "SD Ranade                 NaN      2.0\n",
       "Subroto Das               NaN      1.0\n",
       "Nand Kishore              NaN      1.0\n",
       "\n",
       "[75 rows x 2 columns]"
      ]
     },
     "execution_count": 38,
     "metadata": {},
     "output_type": "execute_result"
    }
   ],
   "source": [
    "umpire1_ser = df_matches['umpire1'].value_counts()\n",
    "umpire2_ser = df_matches['umpire2'].value_counts()\n",
    "umpires_df = pd.concat([umpire1_ser, umpire2_ser], axis=1)\n",
    "umpires_df"
   ]
  },
  {
   "cell_type": "code",
   "execution_count": 40,
   "id": "a21e160f",
   "metadata": {},
   "outputs": [
    {
     "data": {
      "text/html": [
       "<div>\n",
       "<style scoped>\n",
       "    .dataframe tbody tr th:only-of-type {\n",
       "        vertical-align: middle;\n",
       "    }\n",
       "\n",
       "    .dataframe tbody tr th {\n",
       "        vertical-align: top;\n",
       "    }\n",
       "\n",
       "    .dataframe thead th {\n",
       "        text-align: right;\n",
       "    }\n",
       "</style>\n",
       "<table border=\"1\" class=\"dataframe\">\n",
       "  <thead>\n",
       "    <tr style=\"text-align: right;\">\n",
       "      <th></th>\n",
       "      <th>umpire</th>\n",
       "      <th>matches</th>\n",
       "    </tr>\n",
       "  </thead>\n",
       "  <tbody>\n",
       "    <tr>\n",
       "      <th>0</th>\n",
       "      <td>HDPK Dharmasena</td>\n",
       "      <td>87.0</td>\n",
       "    </tr>\n",
       "    <tr>\n",
       "      <th>1</th>\n",
       "      <td>Asad Rauf</td>\n",
       "      <td>51.0</td>\n",
       "    </tr>\n",
       "    <tr>\n",
       "      <th>2</th>\n",
       "      <td>S Ravi</td>\n",
       "      <td>106.0</td>\n",
       "    </tr>\n",
       "    <tr>\n",
       "      <th>3</th>\n",
       "      <td>AK Chaudhary</td>\n",
       "      <td>58.0</td>\n",
       "    </tr>\n",
       "    <tr>\n",
       "      <th>4</th>\n",
       "      <td>Aleem Dar</td>\n",
       "      <td>38.0</td>\n",
       "    </tr>\n",
       "    <tr>\n",
       "      <th>...</th>\n",
       "      <td>...</td>\n",
       "      <td>...</td>\n",
       "    </tr>\n",
       "    <tr>\n",
       "      <th>70</th>\n",
       "      <td>K Srinivasan</td>\n",
       "      <td>3.0</td>\n",
       "    </tr>\n",
       "    <tr>\n",
       "      <th>71</th>\n",
       "      <td>KN Anantapadmanabhan</td>\n",
       "      <td>3.0</td>\n",
       "    </tr>\n",
       "    <tr>\n",
       "      <th>72</th>\n",
       "      <td>SD Ranade</td>\n",
       "      <td>2.0</td>\n",
       "    </tr>\n",
       "    <tr>\n",
       "      <th>73</th>\n",
       "      <td>Subroto Das</td>\n",
       "      <td>1.0</td>\n",
       "    </tr>\n",
       "    <tr>\n",
       "      <th>74</th>\n",
       "      <td>Nand Kishore</td>\n",
       "      <td>1.0</td>\n",
       "    </tr>\n",
       "  </tbody>\n",
       "</table>\n",
       "<p>75 rows × 2 columns</p>\n",
       "</div>"
      ],
      "text/plain": [
       "                  umpire  matches\n",
       "0        HDPK Dharmasena     87.0\n",
       "1              Asad Rauf     51.0\n",
       "2                 S Ravi    106.0\n",
       "3           AK Chaudhary     58.0\n",
       "4              Aleem Dar     38.0\n",
       "..                   ...      ...\n",
       "70          K Srinivasan      3.0\n",
       "71  KN Anantapadmanabhan      3.0\n",
       "72             SD Ranade      2.0\n",
       "73           Subroto Das      1.0\n",
       "74          Nand Kishore      1.0\n",
       "\n",
       "[75 rows x 2 columns]"
      ]
     },
     "execution_count": 40,
     "metadata": {},
     "output_type": "execute_result"
    }
   ],
   "source": [
    "umpire_ser = umpires_df.sum(axis=1)\n",
    "\n",
    "umpire_df = pd.DataFrame(columns=[\"umpire\", \"matches\"])\n",
    "\n",
    "for items in umpire_ser.iteritems():\n",
    "    temp_df4 = pd.DataFrame({\n",
    "        'umpire':[items[0]],\n",
    "        'matches':[items[1]]\n",
    "    })\n",
    "    umpire_df= umpire_df.append(temp_df4, ignore_index=True) \n",
    "umpire_df"
   ]
  },
  {
   "cell_type": "code",
   "execution_count": 41,
   "id": "a8781c13",
   "metadata": {},
   "outputs": [
    {
     "data": {
      "text/html": [
       "<div>\n",
       "<style scoped>\n",
       "    .dataframe tbody tr th:only-of-type {\n",
       "        vertical-align: middle;\n",
       "    }\n",
       "\n",
       "    .dataframe tbody tr th {\n",
       "        vertical-align: top;\n",
       "    }\n",
       "\n",
       "    .dataframe thead th {\n",
       "        text-align: right;\n",
       "    }\n",
       "</style>\n",
       "<table border=\"1\" class=\"dataframe\">\n",
       "  <thead>\n",
       "    <tr style=\"text-align: right;\">\n",
       "      <th></th>\n",
       "      <th>umpire</th>\n",
       "      <th>matches</th>\n",
       "    </tr>\n",
       "  </thead>\n",
       "  <tbody>\n",
       "    <tr>\n",
       "      <th>2</th>\n",
       "      <td>S Ravi</td>\n",
       "      <td>106.0</td>\n",
       "    </tr>\n",
       "    <tr>\n",
       "      <th>0</th>\n",
       "      <td>HDPK Dharmasena</td>\n",
       "      <td>87.0</td>\n",
       "    </tr>\n",
       "    <tr>\n",
       "      <th>12</th>\n",
       "      <td>C Shamshuddin</td>\n",
       "      <td>73.0</td>\n",
       "    </tr>\n",
       "    <tr>\n",
       "      <th>3</th>\n",
       "      <td>AK Chaudhary</td>\n",
       "      <td>58.0</td>\n",
       "    </tr>\n",
       "    <tr>\n",
       "      <th>57</th>\n",
       "      <td>SJA Taufel</td>\n",
       "      <td>55.0</td>\n",
       "    </tr>\n",
       "  </tbody>\n",
       "</table>\n",
       "</div>"
      ],
      "text/plain": [
       "             umpire  matches\n",
       "2            S Ravi    106.0\n",
       "0   HDPK Dharmasena     87.0\n",
       "12    C Shamshuddin     73.0\n",
       "3      AK Chaudhary     58.0\n",
       "57       SJA Taufel     55.0"
      ]
     },
     "execution_count": 41,
     "metadata": {},
     "output_type": "execute_result"
    }
   ],
   "source": [
    "umpire_df.sort_values('matches', ascending=False).head()"
   ]
  },
  {
   "cell_type": "markdown",
   "id": "70674554",
   "metadata": {},
   "source": [
    "# What are the major victories in IPL? Is it better to defend or chase in IPL?"
   ]
  },
  {
   "cell_type": "code",
   "execution_count": 42,
   "id": "275d6664",
   "metadata": {},
   "outputs": [
    {
     "data": {
      "text/plain": [
       "146      1\n",
       "105      1\n",
       "87       1\n",
       "42       1\n",
       "93       1\n",
       "      ... \n",
       "1       10\n",
       "10      11\n",
       "4       11\n",
       "14      13\n",
       "0      419\n",
       "Name: win_by_runs, Length: 89, dtype: int64"
      ]
     },
     "execution_count": 42,
     "metadata": {},
     "output_type": "execute_result"
    }
   ],
   "source": [
    "len(df_matches)\n",
    "defend_vict_ser = df_matches['win_by_runs'].value_counts()\n",
    "defend_vict_ser.sort_values(ascending=True)"
   ]
  },
  {
   "cell_type": "code",
   "execution_count": null,
   "id": "59279ea2",
   "metadata": {},
   "outputs": [],
   "source": [
    "#Of the 756 IPL matches played from 2008 to 2019, 419 matches were won chasing the target.\n",
    "#Hence, more victories were registered by teams chasing a total(batting second) than defending the total.\n",
    "#When defending a total, the biggest victory was by 146 runs. Let’s find out that particular match."
   ]
  },
  {
   "cell_type": "code",
   "execution_count": 44,
   "id": "f318d3a1",
   "metadata": {},
   "outputs": [
    {
     "name": "stdout",
     "output_type": "stream",
     "text": [
      "id                               44\n",
      "season                         2017\n",
      "city                          Delhi\n",
      "date                     2017-05-06\n",
      "team1                Mumbai Indians\n",
      "team2              Delhi Daredevils\n",
      "toss_winner        Delhi Daredevils\n",
      "toss_decision                 field\n",
      "result                       normal\n",
      "dl_applied                        0\n",
      "winner               Mumbai Indians\n",
      "win_by_runs                     146\n",
      "win_by_wickets                    0\n",
      "player_of_match         LMP Simmons\n",
      "venue              Feroz Shah Kotla\n",
      "umpire1                 Nitin Menon\n",
      "umpire2                   CK Nandan\n",
      "umpire3                         NaN\n",
      "Name: 43, dtype: object\n"
     ]
    }
   ],
   "source": [
    "score = 146\n",
    "for index, row in df_matches.iterrows():\n",
    "    if(row['win_by_runs'] == score):\n",
    "        print(row)"
   ]
  },
  {
   "cell_type": "code",
   "execution_count": null,
   "id": "e03e74f2",
   "metadata": {},
   "outputs": [],
   "source": [
    "#The greatest victory in IPL on defending a total is for Mumbai Indians when they defeated Delhi Daredevils by 146 runs \n",
    "#on 06 May 2017 at Feroz Shah Kotla stadium, Delhi."
   ]
  },
  {
   "cell_type": "code",
   "execution_count": 45,
   "id": "4f0eb582",
   "metadata": {},
   "outputs": [
    {
     "data": {
      "text/plain": [
       "0     350\n",
       "6      85\n",
       "7      80\n",
       "5      71\n",
       "8      54\n",
       "4      41\n",
       "9      37\n",
       "3      18\n",
       "10     11\n",
       "2       6\n",
       "1       3\n",
       "Name: win_by_wickets, dtype: int64"
      ]
     },
     "execution_count": 45,
     "metadata": {},
     "output_type": "execute_result"
    }
   ],
   "source": [
    "chasing_vict_ser =df_matches['win_by_wickets'].value_counts()\n",
    "chasing_vict_ser"
   ]
  },
  {
   "cell_type": "code",
   "execution_count": null,
   "id": "4c25fbc3",
   "metadata": {},
   "outputs": [],
   "source": [
    "#Of the 756 IPL matches played from 2008 to 2019, 350 matches were won defending the total.\n",
    "#When chasing a target, the biggest victory was by 10 wickets(without losing any wickets). \n",
    "#There were 11 such instances and we can find the details about those matches by the following code snippet"
   ]
  },
  {
   "cell_type": "code",
   "execution_count": 47,
   "id": "45ac321f",
   "metadata": {},
   "outputs": [
    {
     "name": "stdout",
     "output_type": "stream",
     "text": [
      "id                                                      3\n",
      "season                                               2017\n",
      "city                                               Rajkot\n",
      "date                                           2017-04-07\n",
      "team1                                       Gujarat Lions\n",
      "team2                               Kolkata Knight Riders\n",
      "toss_winner                         Kolkata Knight Riders\n",
      "toss_decision                                       field\n",
      "result                                             normal\n",
      "dl_applied                                              0\n",
      "winner                              Kolkata Knight Riders\n",
      "win_by_runs                                             0\n",
      "win_by_wickets                                         10\n",
      "player_of_match                                   CA Lynn\n",
      "venue              Saurashtra Cricket Association Stadium\n",
      "umpire1                                       Nitin Menon\n",
      "umpire2                                         CK Nandan\n",
      "umpire3                                               NaN\n",
      "Name: 2, dtype: object\n",
      "id                                                                35\n",
      "season                                                          2017\n",
      "city                                                      Chandigarh\n",
      "date                                                      2017-04-30\n",
      "team1                                               Delhi Daredevils\n",
      "team2                                                Kings XI Punjab\n",
      "toss_winner                                          Kings XI Punjab\n",
      "toss_decision                                                  field\n",
      "result                                                        normal\n",
      "dl_applied                                                         0\n",
      "winner                                               Kings XI Punjab\n",
      "win_by_runs                                                        0\n",
      "win_by_wickets                                                    10\n",
      "player_of_match                                       Sandeep Sharma\n",
      "venue              Punjab Cricket Association IS Bindra Stadium, ...\n",
      "umpire1                                                     YC Barde\n",
      "umpire2                                                    CK Nandan\n",
      "umpire3                                                          NaN\n",
      "Name: 34, dtype: object\n",
      "id                                         72\n",
      "season                                   2008\n",
      "city                                   Mumbai\n",
      "date                               2008-04-27\n",
      "team1                          Mumbai Indians\n",
      "team2                         Deccan Chargers\n",
      "toss_winner                   Deccan Chargers\n",
      "toss_decision                           field\n",
      "result                                 normal\n",
      "dl_applied                                  0\n",
      "winner                        Deccan Chargers\n",
      "win_by_runs                                 0\n",
      "win_by_wickets                             10\n",
      "player_of_match                  AC Gilchrist\n",
      "venue              Dr DY Patil Sports Academy\n",
      "umpire1                             Asad Rauf\n",
      "umpire2                            SL Shastri\n",
      "umpire3                                   NaN\n",
      "Name: 71, dtype: object\n",
      "id                              120\n",
      "season                         2009\n",
      "city                      Cape Town\n",
      "date                     2009-04-19\n",
      "team1               Kings XI Punjab\n",
      "team2              Delhi Daredevils\n",
      "toss_winner        Delhi Daredevils\n",
      "toss_decision                 field\n",
      "result                       normal\n",
      "dl_applied                        1\n",
      "winner             Delhi Daredevils\n",
      "win_by_runs                       0\n",
      "win_by_wickets                   10\n",
      "player_of_match          DL Vettori\n",
      "venue                      Newlands\n",
      "umpire1                   MR Benson\n",
      "umpire2                   SD Ranade\n",
      "umpire3                         NaN\n",
      "Name: 119, dtype: object\n",
      "id                                         184\n",
      "season                                    2010\n",
      "city                                 Bangalore\n",
      "date                                2010-03-18\n",
      "team1                         Rajasthan Royals\n",
      "team2              Royal Challengers Bangalore\n",
      "toss_winner        Royal Challengers Bangalore\n",
      "toss_decision                            field\n",
      "result                                  normal\n",
      "dl_applied                                   0\n",
      "winner             Royal Challengers Bangalore\n",
      "win_by_runs                                  0\n",
      "win_by_wickets                              10\n",
      "player_of_match                      JH Kallis\n",
      "venue                    M Chinnaswamy Stadium\n",
      "umpire1                            K Hariharan\n",
      "umpire2                              DJ Harper\n",
      "umpire3                                    NaN\n",
      "Name: 183, dtype: object\n",
      "id                              299\n",
      "season                         2011\n",
      "city                         Mumbai\n",
      "date                     2011-05-20\n",
      "team1                Mumbai Indians\n",
      "team2              Rajasthan Royals\n",
      "toss_winner          Mumbai Indians\n",
      "toss_decision                   bat\n",
      "result                       normal\n",
      "dl_applied                        0\n",
      "winner             Rajasthan Royals\n",
      "win_by_runs                       0\n",
      "win_by_wickets                   10\n",
      "player_of_match           SR Watson\n",
      "venue              Wankhede Stadium\n",
      "umpire1                 RE Koertzen\n",
      "umpire2                  PR Reiffel\n",
      "umpire3                         NaN\n",
      "Name: 298, dtype: object\n",
      "id                                    377\n",
      "season                               2012\n",
      "city                               Jaipur\n",
      "date                           2012-05-20\n",
      "team1                    Rajasthan Royals\n",
      "team2                      Mumbai Indians\n",
      "toss_winner              Rajasthan Royals\n",
      "toss_decision                         bat\n",
      "result                             normal\n",
      "dl_applied                              0\n",
      "winner                     Mumbai Indians\n",
      "win_by_runs                             0\n",
      "win_by_wickets                         10\n",
      "player_of_match                  DR Smith\n",
      "venue              Sawai Mansingh Stadium\n",
      "umpire1                   HDPK Dharmasena\n",
      "umpire2                     C Shamshuddin\n",
      "umpire3                               NaN\n",
      "Name: 376, dtype: object\n",
      "id                                                        391\n",
      "season                                                   2013\n",
      "city                                               Chandigarh\n",
      "date                                               2013-04-10\n",
      "team1                                         Kings XI Punjab\n",
      "team2                                     Chennai Super Kings\n",
      "toss_winner                               Chennai Super Kings\n",
      "toss_decision                                           field\n",
      "result                                                 normal\n",
      "dl_applied                                                  0\n",
      "winner                                    Chennai Super Kings\n",
      "win_by_runs                                                 0\n",
      "win_by_wickets                                             10\n",
      "player_of_match                                    MEK Hussey\n",
      "venue              Punjab Cricket Association Stadium, Mohali\n",
      "umpire1                                             Aleem Dar\n",
      "umpire2                                         C Shamshuddin\n",
      "umpire3                                                   NaN\n",
      "Name: 390, dtype: object\n",
      "id                                         543\n",
      "season                                    2015\n",
      "city                                     Delhi\n",
      "date                                2015-04-26\n",
      "team1                         Delhi Daredevils\n",
      "team2              Royal Challengers Bangalore\n",
      "toss_winner        Royal Challengers Bangalore\n",
      "toss_decision                            field\n",
      "result                                  normal\n",
      "dl_applied                                   0\n",
      "winner             Royal Challengers Bangalore\n",
      "win_by_runs                                  0\n",
      "win_by_wickets                              10\n",
      "player_of_match                       VR Aaron\n",
      "venue                         Feroz Shah Kotla\n",
      "umpire1                              M Erasmus\n",
      "umpire2                                 S Ravi\n",
      "umpire3                                    NaN\n",
      "Name: 542, dtype: object\n",
      "id                                                    591\n",
      "season                                               2016\n",
      "city                                               Rajkot\n",
      "date                                           2016-04-21\n",
      "team1                                       Gujarat Lions\n",
      "team2                                 Sunrisers Hyderabad\n",
      "toss_winner                           Sunrisers Hyderabad\n",
      "toss_decision                                       field\n",
      "result                                             normal\n",
      "dl_applied                                              0\n",
      "winner                                Sunrisers Hyderabad\n",
      "win_by_runs                                             0\n",
      "win_by_wickets                                         10\n",
      "player_of_match                                   B Kumar\n",
      "venue              Saurashtra Cricket Association Stadium\n",
      "umpire1                                        K Bharatan\n",
      "umpire2                                   HDPK Dharmasena\n",
      "umpire3                                               NaN\n",
      "Name: 590, dtype: object\n",
      "id                                        7941\n",
      "season                                    2018\n",
      "city                                    Indore\n",
      "date                                  14/05/18\n",
      "team1                          Kings XI Punjab\n",
      "team2              Royal Challengers Bangalore\n",
      "toss_winner        Royal Challengers Bangalore\n",
      "toss_decision                            field\n",
      "result                                  normal\n",
      "dl_applied                                   0\n",
      "winner             Royal Challengers Bangalore\n",
      "win_by_runs                                  0\n",
      "win_by_wickets                              10\n",
      "player_of_match                       UT Yadav\n",
      "venue                   Holkar Cricket Stadium\n",
      "umpire1                         Bruce Oxenford\n",
      "umpire2                  Virender Kumar Sharma\n",
      "umpire3                               O Nandan\n",
      "Name: 683, dtype: object\n"
     ]
    }
   ],
   "source": [
    "for index, row in df_matches.iterrows():\n",
    "    if(row['win_by_wickets'] == 10):\n",
    "        print(row)"
   ]
  },
  {
   "cell_type": "code",
   "execution_count": 48,
   "id": "764d47f9",
   "metadata": {},
   "outputs": [
    {
     "data": {
      "text/html": [
       "<div>\n",
       "<style scoped>\n",
       "    .dataframe tbody tr th:only-of-type {\n",
       "        vertical-align: middle;\n",
       "    }\n",
       "\n",
       "    .dataframe tbody tr th {\n",
       "        vertical-align: top;\n",
       "    }\n",
       "\n",
       "    .dataframe thead th {\n",
       "        text-align: right;\n",
       "    }\n",
       "</style>\n",
       "<table border=\"1\" class=\"dataframe\">\n",
       "  <thead>\n",
       "    <tr style=\"text-align: right;\">\n",
       "      <th></th>\n",
       "      <th>victory_margin</th>\n",
       "      <th>instances</th>\n",
       "    </tr>\n",
       "  </thead>\n",
       "  <tbody>\n",
       "    <tr>\n",
       "      <th>1</th>\n",
       "      <td>6</td>\n",
       "      <td>85</td>\n",
       "    </tr>\n",
       "    <tr>\n",
       "      <th>2</th>\n",
       "      <td>7</td>\n",
       "      <td>80</td>\n",
       "    </tr>\n",
       "    <tr>\n",
       "      <th>3</th>\n",
       "      <td>5</td>\n",
       "      <td>71</td>\n",
       "    </tr>\n",
       "    <tr>\n",
       "      <th>4</th>\n",
       "      <td>8</td>\n",
       "      <td>54</td>\n",
       "    </tr>\n",
       "    <tr>\n",
       "      <th>5</th>\n",
       "      <td>4</td>\n",
       "      <td>41</td>\n",
       "    </tr>\n",
       "    <tr>\n",
       "      <th>6</th>\n",
       "      <td>9</td>\n",
       "      <td>37</td>\n",
       "    </tr>\n",
       "    <tr>\n",
       "      <th>7</th>\n",
       "      <td>3</td>\n",
       "      <td>18</td>\n",
       "    </tr>\n",
       "    <tr>\n",
       "      <th>8</th>\n",
       "      <td>10</td>\n",
       "      <td>11</td>\n",
       "    </tr>\n",
       "    <tr>\n",
       "      <th>9</th>\n",
       "      <td>2</td>\n",
       "      <td>6</td>\n",
       "    </tr>\n",
       "    <tr>\n",
       "      <th>10</th>\n",
       "      <td>1</td>\n",
       "      <td>3</td>\n",
       "    </tr>\n",
       "  </tbody>\n",
       "</table>\n",
       "</div>"
      ],
      "text/plain": [
       "   victory_margin instances\n",
       "1               6        85\n",
       "2               7        80\n",
       "3               5        71\n",
       "4               8        54\n",
       "5               4        41\n",
       "6               9        37\n",
       "7               3        18\n",
       "8              10        11\n",
       "9               2         6\n",
       "10              1         3"
      ]
     },
     "execution_count": 48,
     "metadata": {},
     "output_type": "execute_result"
    }
   ],
   "source": [
    "chasing_vict_df = pd.DataFrame(columns=['victory_margin', 'instances'])\n",
    "\n",
    "for items in chasing_vict_ser.iteritems():    \n",
    "    temp_df7 = pd.DataFrame({\n",
    "        'victory_margin': [items[0]],\n",
    "        'instances': [items[1]]\n",
    "    })\n",
    "    chasing_vict_df = chasing_vict_df.append(temp_df7, ignore_index=True)\n",
    "    \n",
    "#to drop the first row as it represents victory margin of zero wickets(victory by defending a total)\n",
    "chasing_vict_df2 = chasing_vict_df.drop([0]) \n",
    "chasing_vict_df2"
   ]
  },
  {
   "cell_type": "code",
   "execution_count": 49,
   "id": "563e3893",
   "metadata": {},
   "outputs": [
    {
     "data": {
      "image/png": "[encoded data removed]",
      "text/plain": [
       "<Figure size 432x288 with 1 Axes>"
      ]
     },
     "metadata": {
      "needs_background": "light"
     },
     "output_type": "display_data"
    }
   ],
   "source": [
    "plt.title('The IPL victories in numbers when chasing a total')\n",
    "sns.barplot(x='victory_margin', y='instances', data=chasing_vict_df2)"
   ]
  },
  {
   "cell_type": "code",
   "execution_count": null,
   "id": "9a568a36",
   "metadata": {},
   "outputs": [],
   "source": []
  }
 ],
 "metadata": {
  "kernelspec": {
   "display_name": "Python 3",
   "language": "python",
   "name": "python3"
  },
  "language_info": {
   "codemirror_mode": {
    "name": "ipython",
    "version": 3
   },
   "file_extension": ".py",
   "mimetype": "text/x-python",
   "name": "python",
   "nbconvert_exporter": "python",
   "pygments_lexer": "ipython3",
   "version": "3.8.8"
  }
 },
 "nbformat": 4,
 "nbformat_minor": 5
}
